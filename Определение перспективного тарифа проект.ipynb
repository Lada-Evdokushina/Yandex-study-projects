{
 "cells": [
  {
   "cell_type": "markdown",
   "metadata": {},
   "source": [
    "# Определение перспективного тарифа для телеком компании"
   ]
  },
  {
   "cell_type": "markdown",
   "metadata": {},
   "source": [
    "Предоставлены данные - выборка из 500 абонентов оператора Мегалайн. Часть из них пользуется тарифом Smart, другая часть - тарифом Ultra. \n",
    "Необходимо проанализировать поведение клиентов и понять, какой тариф лучше"
   ]
  },
  {
   "cell_type": "markdown",
   "metadata": {},
   "source": [
    "### Table of contents\n",
    "1. [Импорт данных и инфо о таблицах](#first)\n",
    "    1. [Вывод](#conc1)\n",
    "2. [Подготовка и обработка данных](#second)\n",
    "    1. [Вывод](#conc2)\n",
    "3. [Анализ данных](#third)\n",
    "    1. [Вывод](#conc3)\n",
    "4. [Проверка гипотез](#forth)\n",
    "5. [Общий вывод](#conc)"
   ]
  },
  {
   "cell_type": "markdown",
   "metadata": {},
   "source": [
    "### Шаг 1: Откройте файл с данными и изучите общую информацию <a name=\"first\"></a>"
   ]
  },
  {
   "cell_type": "code",
   "execution_count": 18,
   "metadata": {},
   "outputs": [],
   "source": [
    "import pandas as pd\n",
    "import numpy as np\n",
    "from scipy import stats as st\n",
    "import matplotlib.pyplot as plt"
   ]
  },
  {
   "cell_type": "code",
   "execution_count": 19,
   "metadata": {},
   "outputs": [],
   "source": [
    "calls = pd.read_csv('/datasets/calls.csv')\n",
    "internet = pd.read_csv('/datasets/internet.csv')\n",
    "messages = pd.read_csv('/datasets/messages.csv')\n",
    "tariffs = pd.read_csv('/datasets/tariffs.csv')\n",
    "users = pd.read_csv('/datasets/users.csv')"
   ]
  },
  {
   "cell_type": "code",
   "execution_count": 20,
   "metadata": {},
   "outputs": [
    {
     "name": "stdout",
     "output_type": "stream",
     "text": [
      "<class 'pandas.core.frame.DataFrame'>\n",
      "RangeIndex: 202607 entries, 0 to 202606\n",
      "Data columns (total 4 columns):\n",
      "id           202607 non-null object\n",
      "call_date    202607 non-null object\n",
      "duration     202607 non-null float64\n",
      "user_id      202607 non-null int64\n",
      "dtypes: float64(1), int64(1), object(2)\n",
      "memory usage: 6.2+ MB\n",
      "<class 'pandas.core.frame.DataFrame'>\n",
      "RangeIndex: 149396 entries, 0 to 149395\n",
      "Data columns (total 5 columns):\n",
      "Unnamed: 0      149396 non-null int64\n",
      "id              149396 non-null object\n",
      "mb_used         149396 non-null float64\n",
      "session_date    149396 non-null object\n",
      "user_id         149396 non-null int64\n",
      "dtypes: float64(1), int64(2), object(2)\n",
      "memory usage: 5.7+ MB\n",
      "<class 'pandas.core.frame.DataFrame'>\n",
      "RangeIndex: 123036 entries, 0 to 123035\n",
      "Data columns (total 3 columns):\n",
      "id              123036 non-null object\n",
      "message_date    123036 non-null object\n",
      "user_id         123036 non-null int64\n",
      "dtypes: int64(1), object(2)\n",
      "memory usage: 2.8+ MB\n",
      "<class 'pandas.core.frame.DataFrame'>\n",
      "RangeIndex: 500 entries, 0 to 499\n",
      "Data columns (total 8 columns):\n",
      "user_id       500 non-null int64\n",
      "age           500 non-null int64\n",
      "churn_date    38 non-null object\n",
      "city          500 non-null object\n",
      "first_name    500 non-null object\n",
      "last_name     500 non-null object\n",
      "reg_date      500 non-null object\n",
      "tariff        500 non-null object\n",
      "dtypes: int64(2), object(6)\n",
      "memory usage: 31.4+ KB\n"
     ]
    }
   ],
   "source": [
    "for item in [calls, internet, messages, users]:\n",
    "    item.info()"
   ]
  },
  {
   "cell_type": "code",
   "execution_count": 21,
   "metadata": {},
   "outputs": [
    {
     "data": {
      "text/html": [
       "<div>\n",
       "<style scoped>\n",
       "    .dataframe tbody tr th:only-of-type {\n",
       "        vertical-align: middle;\n",
       "    }\n",
       "\n",
       "    .dataframe tbody tr th {\n",
       "        vertical-align: top;\n",
       "    }\n",
       "\n",
       "    .dataframe thead th {\n",
       "        text-align: right;\n",
       "    }\n",
       "</style>\n",
       "<table border=\"1\" class=\"dataframe\">\n",
       "  <thead>\n",
       "    <tr style=\"text-align: right;\">\n",
       "      <th></th>\n",
       "      <th>id</th>\n",
       "      <th>call_date</th>\n",
       "      <th>duration</th>\n",
       "      <th>user_id</th>\n",
       "    </tr>\n",
       "  </thead>\n",
       "  <tbody>\n",
       "    <tr>\n",
       "      <td>5547</td>\n",
       "      <td>1015_267</td>\n",
       "      <td>2018-12-04</td>\n",
       "      <td>4.47</td>\n",
       "      <td>1015</td>\n",
       "    </tr>\n",
       "    <tr>\n",
       "      <td>819</td>\n",
       "      <td>1003_112</td>\n",
       "      <td>2018-10-09</td>\n",
       "      <td>0.53</td>\n",
       "      <td>1003</td>\n",
       "    </tr>\n",
       "    <tr>\n",
       "      <td>88423</td>\n",
       "      <td>1222_161</td>\n",
       "      <td>2018-10-09</td>\n",
       "      <td>16.36</td>\n",
       "      <td>1222</td>\n",
       "    </tr>\n",
       "  </tbody>\n",
       "</table>\n",
       "</div>"
      ],
      "text/plain": [
       "             id   call_date  duration  user_id\n",
       "5547   1015_267  2018-12-04      4.47     1015\n",
       "819    1003_112  2018-10-09      0.53     1003\n",
       "88423  1222_161  2018-10-09     16.36     1222"
      ]
     },
     "metadata": {},
     "output_type": "display_data"
    },
    {
     "data": {
      "text/html": [
       "<div>\n",
       "<style scoped>\n",
       "    .dataframe tbody tr th:only-of-type {\n",
       "        vertical-align: middle;\n",
       "    }\n",
       "\n",
       "    .dataframe tbody tr th {\n",
       "        vertical-align: top;\n",
       "    }\n",
       "\n",
       "    .dataframe thead th {\n",
       "        text-align: right;\n",
       "    }\n",
       "</style>\n",
       "<table border=\"1\" class=\"dataframe\">\n",
       "  <thead>\n",
       "    <tr style=\"text-align: right;\">\n",
       "      <th></th>\n",
       "      <th>Unnamed: 0</th>\n",
       "      <th>id</th>\n",
       "      <th>mb_used</th>\n",
       "      <th>session_date</th>\n",
       "      <th>user_id</th>\n",
       "    </tr>\n",
       "  </thead>\n",
       "  <tbody>\n",
       "    <tr>\n",
       "      <td>86446</td>\n",
       "      <td>86446</td>\n",
       "      <td>1292_562</td>\n",
       "      <td>144.13</td>\n",
       "      <td>2018-02-22</td>\n",
       "      <td>1292</td>\n",
       "    </tr>\n",
       "    <tr>\n",
       "      <td>88046</td>\n",
       "      <td>88046</td>\n",
       "      <td>1298_339</td>\n",
       "      <td>169.60</td>\n",
       "      <td>2018-10-07</td>\n",
       "      <td>1298</td>\n",
       "    </tr>\n",
       "    <tr>\n",
       "      <td>62516</td>\n",
       "      <td>62516</td>\n",
       "      <td>1212_9</td>\n",
       "      <td>636.66</td>\n",
       "      <td>2018-12-21</td>\n",
       "      <td>1212</td>\n",
       "    </tr>\n",
       "  </tbody>\n",
       "</table>\n",
       "</div>"
      ],
      "text/plain": [
       "       Unnamed: 0        id  mb_used session_date  user_id\n",
       "86446       86446  1292_562   144.13   2018-02-22     1292\n",
       "88046       88046  1298_339   169.60   2018-10-07     1298\n",
       "62516       62516    1212_9   636.66   2018-12-21     1212"
      ]
     },
     "metadata": {},
     "output_type": "display_data"
    },
    {
     "data": {
      "text/html": [
       "<div>\n",
       "<style scoped>\n",
       "    .dataframe tbody tr th:only-of-type {\n",
       "        vertical-align: middle;\n",
       "    }\n",
       "\n",
       "    .dataframe tbody tr th {\n",
       "        vertical-align: top;\n",
       "    }\n",
       "\n",
       "    .dataframe thead th {\n",
       "        text-align: right;\n",
       "    }\n",
       "</style>\n",
       "<table border=\"1\" class=\"dataframe\">\n",
       "  <thead>\n",
       "    <tr style=\"text-align: right;\">\n",
       "      <th></th>\n",
       "      <th>id</th>\n",
       "      <th>message_date</th>\n",
       "      <th>user_id</th>\n",
       "    </tr>\n",
       "  </thead>\n",
       "  <tbody>\n",
       "    <tr>\n",
       "      <td>31474</td>\n",
       "      <td>1140_25</td>\n",
       "      <td>2018-12-31</td>\n",
       "      <td>1140</td>\n",
       "    </tr>\n",
       "    <tr>\n",
       "      <td>32007</td>\n",
       "      <td>1144_146</td>\n",
       "      <td>2018-08-09</td>\n",
       "      <td>1144</td>\n",
       "    </tr>\n",
       "    <tr>\n",
       "      <td>14073</td>\n",
       "      <td>1059_90</td>\n",
       "      <td>2018-06-06</td>\n",
       "      <td>1059</td>\n",
       "    </tr>\n",
       "  </tbody>\n",
       "</table>\n",
       "</div>"
      ],
      "text/plain": [
       "             id message_date  user_id\n",
       "31474   1140_25   2018-12-31     1140\n",
       "32007  1144_146   2018-08-09     1144\n",
       "14073   1059_90   2018-06-06     1059"
      ]
     },
     "metadata": {},
     "output_type": "display_data"
    },
    {
     "data": {
      "text/html": [
       "<div>\n",
       "<style scoped>\n",
       "    .dataframe tbody tr th:only-of-type {\n",
       "        vertical-align: middle;\n",
       "    }\n",
       "\n",
       "    .dataframe tbody tr th {\n",
       "        vertical-align: top;\n",
       "    }\n",
       "\n",
       "    .dataframe thead th {\n",
       "        text-align: right;\n",
       "    }\n",
       "</style>\n",
       "<table border=\"1\" class=\"dataframe\">\n",
       "  <thead>\n",
       "    <tr style=\"text-align: right;\">\n",
       "      <th></th>\n",
       "      <th>user_id</th>\n",
       "      <th>age</th>\n",
       "      <th>churn_date</th>\n",
       "      <th>city</th>\n",
       "      <th>first_name</th>\n",
       "      <th>last_name</th>\n",
       "      <th>reg_date</th>\n",
       "      <th>tariff</th>\n",
       "    </tr>\n",
       "  </thead>\n",
       "  <tbody>\n",
       "    <tr>\n",
       "      <td>166</td>\n",
       "      <td>1166</td>\n",
       "      <td>48</td>\n",
       "      <td>NaN</td>\n",
       "      <td>Нижний Новгород</td>\n",
       "      <td>Святослав</td>\n",
       "      <td>Жданов</td>\n",
       "      <td>2018-08-17</td>\n",
       "      <td>ultra</td>\n",
       "    </tr>\n",
       "    <tr>\n",
       "      <td>231</td>\n",
       "      <td>1231</td>\n",
       "      <td>63</td>\n",
       "      <td>NaN</td>\n",
       "      <td>Чебоксары</td>\n",
       "      <td>Касьян</td>\n",
       "      <td>Авдюков</td>\n",
       "      <td>2018-05-23</td>\n",
       "      <td>ultra</td>\n",
       "    </tr>\n",
       "    <tr>\n",
       "      <td>14</td>\n",
       "      <td>1014</td>\n",
       "      <td>64</td>\n",
       "      <td>NaN</td>\n",
       "      <td>Чебоксары</td>\n",
       "      <td>Яков</td>\n",
       "      <td>Акинфьев</td>\n",
       "      <td>2018-05-15</td>\n",
       "      <td>smart</td>\n",
       "    </tr>\n",
       "  </tbody>\n",
       "</table>\n",
       "</div>"
      ],
      "text/plain": [
       "     user_id  age churn_date             city first_name last_name  \\\n",
       "166     1166   48        NaN  Нижний Новгород  Святослав    Жданов   \n",
       "231     1231   63        NaN        Чебоксары     Касьян   Авдюков   \n",
       "14      1014   64        NaN        Чебоксары       Яков  Акинфьев   \n",
       "\n",
       "       reg_date tariff  \n",
       "166  2018-08-17  ultra  \n",
       "231  2018-05-23  ultra  \n",
       "14   2018-05-15  smart  "
      ]
     },
     "metadata": {},
     "output_type": "display_data"
    },
    {
     "data": {
      "text/html": [
       "<div>\n",
       "<style scoped>\n",
       "    .dataframe tbody tr th:only-of-type {\n",
       "        vertical-align: middle;\n",
       "    }\n",
       "\n",
       "    .dataframe tbody tr th {\n",
       "        vertical-align: top;\n",
       "    }\n",
       "\n",
       "    .dataframe thead th {\n",
       "        text-align: right;\n",
       "    }\n",
       "</style>\n",
       "<table border=\"1\" class=\"dataframe\">\n",
       "  <thead>\n",
       "    <tr style=\"text-align: right;\">\n",
       "      <th></th>\n",
       "      <th>messages_included</th>\n",
       "      <th>mb_per_month_included</th>\n",
       "      <th>minutes_included</th>\n",
       "      <th>rub_monthly_fee</th>\n",
       "      <th>rub_per_gb</th>\n",
       "      <th>rub_per_message</th>\n",
       "      <th>rub_per_minute</th>\n",
       "      <th>tariff_name</th>\n",
       "    </tr>\n",
       "  </thead>\n",
       "  <tbody>\n",
       "    <tr>\n",
       "      <td>0</td>\n",
       "      <td>50</td>\n",
       "      <td>15360</td>\n",
       "      <td>500</td>\n",
       "      <td>550</td>\n",
       "      <td>200</td>\n",
       "      <td>3</td>\n",
       "      <td>3</td>\n",
       "      <td>smart</td>\n",
       "    </tr>\n",
       "    <tr>\n",
       "      <td>1</td>\n",
       "      <td>1000</td>\n",
       "      <td>30720</td>\n",
       "      <td>3000</td>\n",
       "      <td>1950</td>\n",
       "      <td>150</td>\n",
       "      <td>1</td>\n",
       "      <td>1</td>\n",
       "      <td>ultra</td>\n",
       "    </tr>\n",
       "  </tbody>\n",
       "</table>\n",
       "</div>"
      ],
      "text/plain": [
       "   messages_included  mb_per_month_included  minutes_included  \\\n",
       "0                 50                  15360               500   \n",
       "1               1000                  30720              3000   \n",
       "\n",
       "   rub_monthly_fee  rub_per_gb  rub_per_message  rub_per_minute tariff_name  \n",
       "0              550         200                3               3       smart  \n",
       "1             1950         150                1               1       ultra  "
      ]
     },
     "metadata": {},
     "output_type": "display_data"
    }
   ],
   "source": [
    "display(calls.sample(3))\n",
    "display(internet.sample(3))\n",
    "display(messages.sample(3))\n",
    "display(users.sample(3))\n",
    "display(tariffs)"
   ]
  },
  {
   "cell_type": "markdown",
   "metadata": {},
   "source": [
    "### Вывод <a name=\"conc1\"></a>"
   ]
  },
  {
   "cell_type": "markdown",
   "metadata": {},
   "source": [
    "В столбце churn_data есть пропущенные значения dataset \"users\". Во всех столбцах даты в неверном формате. Мегабайты и минуты указаны со знаками после запятой (оператор округляет эти показания вверх). Столбцы id в датасетах типа object, но это числа. "
   ]
  },
  {
   "cell_type": "markdown",
   "metadata": {},
   "source": [
    "### Шаг 2. Подготовьте данные <a name=\"second\"></a>"
   ]
  },
  {
   "cell_type": "markdown",
   "metadata": {},
   "source": [
    "Приведите данные к нужным типам;\n",
    "Найдите и исправьте ошибки в данных.\n",
    "Поясните, какие ошибки вы нашли и как их исправили. Обратите внимание, что длительность многих звонков — 0.0 минут. Это могут быть пропущенные звонки. Обрабатывать ли эти нулевые значения, решать вам — оцените, как их отсутствие повлияет на результаты анализа.\n",
    "Посчитайте для каждого пользователя:\n",
    "-количество сделанных звонков и израсходованных минут разговора по месяцам;\n",
    "-количество отправленных сообщений по месяцам;\n",
    "-объем израсходованного интернет-трафика по месяцам;\n",
    "-помесячную выручку с каждого пользователя (вычтите бесплатный лимит из суммарного количества звонков, сообщений и интернет-трафика; остаток умножьте на значение из тарифного плана; прибавьте абонентскую плату, соответствующую тарифному плану)."
   ]
  },
  {
   "cell_type": "code",
   "execution_count": 22,
   "metadata": {},
   "outputs": [],
   "source": [
    "#приведем даты в столбцах к единому формату даты\n",
    "calls['call_date'] = pd.to_datetime(calls['call_date'], format='%Y-%m-%d')\n",
    "messages['message_date'] = pd.to_datetime(messages['message_date'], format='%Y-%m-%d')\n",
    "internet['session_date'] = pd.to_datetime(internet['session_date'], format='%Y-%m-%d')\n",
    "users['churn_date'] = pd.to_datetime(users['churn_date'], format='%Y-%m-%d')\n",
    "users['reg_date'] = pd.to_datetime(users['reg_date'], format='%Y-%m-%d')\n",
    "#т.к. оператор округляет вверх до минуты и мегабайта все расходы, округлим в соответствующих столбцах минуты и мб.\n",
    "calls['duration'] = calls['duration'].apply(np.ceil)\n",
    "calls['duration'] = calls['duration'].astype('int')\n",
    "internet['mb_used'] = internet['mb_used'].apply(np.ceil)\n",
    "internet['mb_used'] = internet['mb_used'].astype('int')\n",
    "#удалим строки с 0, т.к. они не повлияют на данные, они говорят о том, что звонок или интернет-соединение не были выполнены.\n",
    "internet['mb_used'] = internet['mb_used'].replace(0, np.NaN)\n",
    "internet = internet.dropna()\n",
    "calls['duration'] = calls['duration'].replace(0, np.NaN)\n",
    "calls = calls.dropna()\n",
    "#приведем столбцы id к числовой форме\n",
    "calls['id'] = calls['id'].astype('int')\n",
    "internet['id'] = internet['id'].astype('int')\n",
    "messages['id'] = messages['id'].astype('int')"
   ]
  },
  {
   "cell_type": "markdown",
   "metadata": {},
   "source": [
    "Здесь мы произвели всю необходимую предобработку данных: привели все значения к необходимым форматам, округлили минуты и мегабайты так, как обычно это делает оператор - до целого числа в большую сторону. "
   ]
  },
  {
   "cell_type": "code",
   "execution_count": 23,
   "metadata": {},
   "outputs": [],
   "source": [
    "#создадим столбец \"месяц\" в каждой таблице\n",
    "calls['month'] = calls['call_date'].dt.month\n",
    "messages['month'] = messages['message_date'].dt.month\n",
    "internet['month'] = internet['session_date'].dt.month\n",
    "#т.к. в дальнейшем для измерения нам потребуются данные в гигабайтах - перевожу мб в гб (1 гб = 1024мб)\n",
    "internet['gb_used'] = internet['mb_used'] / 1024\n",
    "#создадим сводные таблицы с разбивкой по месяцам, сколько в месяц каждый абонент потратил минут\n",
    "pivot_calls = calls.pivot_table(index=['month','user_id'], values='duration', aggfunc=('sum', 'count'))\n",
    "pivot_messages = messages.pivot_table(index=['month', 'user_id'], values='message_date', aggfunc=('count'))\n",
    "pivot_internet = internet.pivot_table(index=['month', 'user_id'], values = 'gb_used', aggfunc=('sum'))"
   ]
  },
  {
   "cell_type": "markdown",
   "metadata": {},
   "source": [
    "Здесь уже приступаем к подготовке одной общей таблицы: Сначала создаем в каждой таблице столбец с месяцами, т.к. нам необходимо иметь все данные в разбивке по месяцам. После создаем столбец, где переводим мегабайты в гигабайты, тк. в тарифе считаются именно гб. \n",
    "После создаем сводные таблицы, где приводим данные к нужному нам виду; для каждого ИД с разбивкой по месяцам мы теперь знаем суммарное количество отправленных смс, использованных гб и потраченных минут."
   ]
  },
  {
   "cell_type": "code",
   "execution_count": 24,
   "metadata": {},
   "outputs": [
    {
     "data": {
      "text/html": [
       "<div>\n",
       "<style scoped>\n",
       "    .dataframe tbody tr th:only-of-type {\n",
       "        vertical-align: middle;\n",
       "    }\n",
       "\n",
       "    .dataframe tbody tr th {\n",
       "        vertical-align: top;\n",
       "    }\n",
       "\n",
       "    .dataframe thead th {\n",
       "        text-align: right;\n",
       "    }\n",
       "</style>\n",
       "<table border=\"1\" class=\"dataframe\">\n",
       "  <thead>\n",
       "    <tr style=\"text-align: right;\">\n",
       "      <th></th>\n",
       "      <th>month</th>\n",
       "      <th>user_id</th>\n",
       "      <th>calls_num</th>\n",
       "      <th>min_sum</th>\n",
       "      <th>gb_used</th>\n",
       "      <th>sms_num</th>\n",
       "      <th>age</th>\n",
       "      <th>churn_date</th>\n",
       "      <th>city</th>\n",
       "      <th>first_name</th>\n",
       "      <th>last_name</th>\n",
       "      <th>reg_date</th>\n",
       "      <th>tariff</th>\n",
       "    </tr>\n",
       "  </thead>\n",
       "  <tbody>\n",
       "    <tr>\n",
       "      <td>1698</td>\n",
       "      <td>5</td>\n",
       "      <td>1000</td>\n",
       "      <td>17</td>\n",
       "      <td>159.0</td>\n",
       "      <td>2.203125</td>\n",
       "      <td>22.0</td>\n",
       "      <td>52</td>\n",
       "      <td>0</td>\n",
       "      <td>Краснодар</td>\n",
       "      <td>Рафаил</td>\n",
       "      <td>Верещагин</td>\n",
       "      <td>2018-05-25</td>\n",
       "      <td>ultra</td>\n",
       "    </tr>\n",
       "    <tr>\n",
       "      <td>1700</td>\n",
       "      <td>7</td>\n",
       "      <td>1000</td>\n",
       "      <td>41</td>\n",
       "      <td>340.0</td>\n",
       "      <td>13.687500</td>\n",
       "      <td>75.0</td>\n",
       "      <td>52</td>\n",
       "      <td>0</td>\n",
       "      <td>Краснодар</td>\n",
       "      <td>Рафаил</td>\n",
       "      <td>Верещагин</td>\n",
       "      <td>2018-05-25</td>\n",
       "      <td>ultra</td>\n",
       "    </tr>\n",
       "    <tr>\n",
       "      <td>1701</td>\n",
       "      <td>8</td>\n",
       "      <td>1000</td>\n",
       "      <td>42</td>\n",
       "      <td>408.0</td>\n",
       "      <td>13.740234</td>\n",
       "      <td>81.0</td>\n",
       "      <td>52</td>\n",
       "      <td>0</td>\n",
       "      <td>Краснодар</td>\n",
       "      <td>Рафаил</td>\n",
       "      <td>Верещагин</td>\n",
       "      <td>2018-05-25</td>\n",
       "      <td>ultra</td>\n",
       "    </tr>\n",
       "    <tr>\n",
       "      <td>1702</td>\n",
       "      <td>9</td>\n",
       "      <td>1000</td>\n",
       "      <td>46</td>\n",
       "      <td>466.0</td>\n",
       "      <td>14.239258</td>\n",
       "      <td>57.0</td>\n",
       "      <td>52</td>\n",
       "      <td>0</td>\n",
       "      <td>Краснодар</td>\n",
       "      <td>Рафаил</td>\n",
       "      <td>Верещагин</td>\n",
       "      <td>2018-05-25</td>\n",
       "      <td>ultra</td>\n",
       "    </tr>\n",
       "    <tr>\n",
       "      <td>1703</td>\n",
       "      <td>10</td>\n",
       "      <td>1000</td>\n",
       "      <td>44</td>\n",
       "      <td>350.0</td>\n",
       "      <td>14.372070</td>\n",
       "      <td>73.0</td>\n",
       "      <td>52</td>\n",
       "      <td>0</td>\n",
       "      <td>Краснодар</td>\n",
       "      <td>Рафаил</td>\n",
       "      <td>Верещагин</td>\n",
       "      <td>2018-05-25</td>\n",
       "      <td>ultra</td>\n",
       "    </tr>\n",
       "  </tbody>\n",
       "</table>\n",
       "</div>"
      ],
      "text/plain": [
       "      month  user_id  calls_num  min_sum    gb_used  sms_num  age churn_date  \\\n",
       "1698      5     1000         17    159.0   2.203125     22.0   52          0   \n",
       "1700      7     1000         41    340.0  13.687500     75.0   52          0   \n",
       "1701      8     1000         42    408.0  13.740234     81.0   52          0   \n",
       "1702      9     1000         46    466.0  14.239258     57.0   52          0   \n",
       "1703     10     1000         44    350.0  14.372070     73.0   52          0   \n",
       "\n",
       "           city first_name  last_name   reg_date tariff  \n",
       "1698  Краснодар     Рафаил  Верещагин 2018-05-25  ultra  \n",
       "1700  Краснодар     Рафаил  Верещагин 2018-05-25  ultra  \n",
       "1701  Краснодар     Рафаил  Верещагин 2018-05-25  ultra  \n",
       "1702  Краснодар     Рафаил  Верещагин 2018-05-25  ultra  \n",
       "1703  Краснодар     Рафаил  Верещагин 2018-05-25  ultra  "
      ]
     },
     "execution_count": 24,
     "metadata": {},
     "output_type": "execute_result"
    }
   ],
   "source": [
    "#объединим таблицы в одну с данными по пользователям и использованным услугам. \n",
    "group_ci = pivot_calls.join(pivot_internet, on=['month', 'user_id'])\n",
    "group_ci = group_ci.reset_index()\n",
    "group_cmi = group_ci.join(pivot_messages, on=['month', 'user_id'])\n",
    "group_cmi = group_cmi.reset_index()\n",
    "group_all = group_cmi.merge(users,on='user_id')\n",
    "group_all=group_all.fillna(0).sort_values(by='user_id')\n",
    "del group_all['index']\n",
    "#для удобства переименовываю некоторые столбцы в более понятные названия\n",
    "group_all.rename(columns={'count': 'calls_num', 'sum': 'min_sum', 'message_date': 'sms_num'}, inplace=True)\n",
    "group_all.head()"
   ]
  },
  {
   "cell_type": "markdown",
   "metadata": {},
   "source": [
    "Теперь у меня есть единая таблица, в которой объединены данные по использованным минутам, смс и гигабайтам. Для каждого ид так же прописаны данные абонента и тариф, которым он пользуется. "
   ]
  },
  {
   "cell_type": "code",
   "execution_count": 25,
   "metadata": {},
   "outputs": [
    {
     "data": {
      "text/html": [
       "<div>\n",
       "<style scoped>\n",
       "    .dataframe tbody tr th:only-of-type {\n",
       "        vertical-align: middle;\n",
       "    }\n",
       "\n",
       "    .dataframe tbody tr th {\n",
       "        vertical-align: top;\n",
       "    }\n",
       "\n",
       "    .dataframe thead th {\n",
       "        text-align: right;\n",
       "    }\n",
       "</style>\n",
       "<table border=\"1\" class=\"dataframe\">\n",
       "  <thead>\n",
       "    <tr style=\"text-align: right;\">\n",
       "      <th></th>\n",
       "      <th>month</th>\n",
       "      <th>user_id</th>\n",
       "      <th>calls_num</th>\n",
       "      <th>min_sum</th>\n",
       "      <th>gb_used</th>\n",
       "      <th>sms_num</th>\n",
       "      <th>age</th>\n",
       "      <th>churn_date</th>\n",
       "      <th>city</th>\n",
       "      <th>first_name</th>\n",
       "      <th>last_name</th>\n",
       "      <th>reg_date</th>\n",
       "      <th>tariff</th>\n",
       "      <th>tariff_cost</th>\n",
       "    </tr>\n",
       "  </thead>\n",
       "  <tbody>\n",
       "    <tr>\n",
       "      <td>1698</td>\n",
       "      <td>5</td>\n",
       "      <td>1000</td>\n",
       "      <td>17</td>\n",
       "      <td>159.0</td>\n",
       "      <td>2.203125</td>\n",
       "      <td>22.0</td>\n",
       "      <td>52</td>\n",
       "      <td>0</td>\n",
       "      <td>Краснодар</td>\n",
       "      <td>Рафаил</td>\n",
       "      <td>Верещагин</td>\n",
       "      <td>2018-05-25</td>\n",
       "      <td>ultra</td>\n",
       "      <td>1950</td>\n",
       "    </tr>\n",
       "    <tr>\n",
       "      <td>1700</td>\n",
       "      <td>7</td>\n",
       "      <td>1000</td>\n",
       "      <td>41</td>\n",
       "      <td>340.0</td>\n",
       "      <td>13.687500</td>\n",
       "      <td>75.0</td>\n",
       "      <td>52</td>\n",
       "      <td>0</td>\n",
       "      <td>Краснодар</td>\n",
       "      <td>Рафаил</td>\n",
       "      <td>Верещагин</td>\n",
       "      <td>2018-05-25</td>\n",
       "      <td>ultra</td>\n",
       "      <td>1950</td>\n",
       "    </tr>\n",
       "    <tr>\n",
       "      <td>1701</td>\n",
       "      <td>8</td>\n",
       "      <td>1000</td>\n",
       "      <td>42</td>\n",
       "      <td>408.0</td>\n",
       "      <td>13.740234</td>\n",
       "      <td>81.0</td>\n",
       "      <td>52</td>\n",
       "      <td>0</td>\n",
       "      <td>Краснодар</td>\n",
       "      <td>Рафаил</td>\n",
       "      <td>Верещагин</td>\n",
       "      <td>2018-05-25</td>\n",
       "      <td>ultra</td>\n",
       "      <td>1950</td>\n",
       "    </tr>\n",
       "    <tr>\n",
       "      <td>1702</td>\n",
       "      <td>9</td>\n",
       "      <td>1000</td>\n",
       "      <td>46</td>\n",
       "      <td>466.0</td>\n",
       "      <td>14.239258</td>\n",
       "      <td>57.0</td>\n",
       "      <td>52</td>\n",
       "      <td>0</td>\n",
       "      <td>Краснодар</td>\n",
       "      <td>Рафаил</td>\n",
       "      <td>Верещагин</td>\n",
       "      <td>2018-05-25</td>\n",
       "      <td>ultra</td>\n",
       "      <td>1950</td>\n",
       "    </tr>\n",
       "    <tr>\n",
       "      <td>1703</td>\n",
       "      <td>10</td>\n",
       "      <td>1000</td>\n",
       "      <td>44</td>\n",
       "      <td>350.0</td>\n",
       "      <td>14.372070</td>\n",
       "      <td>73.0</td>\n",
       "      <td>52</td>\n",
       "      <td>0</td>\n",
       "      <td>Краснодар</td>\n",
       "      <td>Рафаил</td>\n",
       "      <td>Верещагин</td>\n",
       "      <td>2018-05-25</td>\n",
       "      <td>ultra</td>\n",
       "      <td>1950</td>\n",
       "    </tr>\n",
       "    <tr>\n",
       "      <td>...</td>\n",
       "      <td>...</td>\n",
       "      <td>...</td>\n",
       "      <td>...</td>\n",
       "      <td>...</td>\n",
       "      <td>...</td>\n",
       "      <td>...</td>\n",
       "      <td>...</td>\n",
       "      <td>...</td>\n",
       "      <td>...</td>\n",
       "      <td>...</td>\n",
       "      <td>...</td>\n",
       "      <td>...</td>\n",
       "      <td>...</td>\n",
       "      <td>...</td>\n",
       "    </tr>\n",
       "    <tr>\n",
       "      <td>2542</td>\n",
       "      <td>9</td>\n",
       "      <td>1498</td>\n",
       "      <td>53</td>\n",
       "      <td>471.0</td>\n",
       "      <td>21.646484</td>\n",
       "      <td>44.0</td>\n",
       "      <td>68</td>\n",
       "      <td>2018-10-25 00:00:00</td>\n",
       "      <td>Владикавказ</td>\n",
       "      <td>Всеволод</td>\n",
       "      <td>Акимчин</td>\n",
       "      <td>2018-07-19</td>\n",
       "      <td>smart</td>\n",
       "      <td>1879</td>\n",
       "    </tr>\n",
       "    <tr>\n",
       "      <td>2917</td>\n",
       "      <td>11</td>\n",
       "      <td>1499</td>\n",
       "      <td>62</td>\n",
       "      <td>612.0</td>\n",
       "      <td>17.562500</td>\n",
       "      <td>59.0</td>\n",
       "      <td>35</td>\n",
       "      <td>0</td>\n",
       "      <td>Пермь</td>\n",
       "      <td>Гектор</td>\n",
       "      <td>Корнилов</td>\n",
       "      <td>2018-09-27</td>\n",
       "      <td>smart</td>\n",
       "      <td>1426</td>\n",
       "    </tr>\n",
       "    <tr>\n",
       "      <td>2916</td>\n",
       "      <td>10</td>\n",
       "      <td>1499</td>\n",
       "      <td>44</td>\n",
       "      <td>449.0</td>\n",
       "      <td>17.391602</td>\n",
       "      <td>48.0</td>\n",
       "      <td>35</td>\n",
       "      <td>0</td>\n",
       "      <td>Пермь</td>\n",
       "      <td>Гектор</td>\n",
       "      <td>Корнилов</td>\n",
       "      <td>2018-09-27</td>\n",
       "      <td>smart</td>\n",
       "      <td>1028</td>\n",
       "    </tr>\n",
       "    <tr>\n",
       "      <td>2915</td>\n",
       "      <td>9</td>\n",
       "      <td>1499</td>\n",
       "      <td>8</td>\n",
       "      <td>70.0</td>\n",
       "      <td>1.804688</td>\n",
       "      <td>11.0</td>\n",
       "      <td>35</td>\n",
       "      <td>0</td>\n",
       "      <td>Пермь</td>\n",
       "      <td>Гектор</td>\n",
       "      <td>Корнилов</td>\n",
       "      <td>2018-09-27</td>\n",
       "      <td>smart</td>\n",
       "      <td>550</td>\n",
       "    </tr>\n",
       "    <tr>\n",
       "      <td>2918</td>\n",
       "      <td>12</td>\n",
       "      <td>1499</td>\n",
       "      <td>56</td>\n",
       "      <td>492.0</td>\n",
       "      <td>12.770508</td>\n",
       "      <td>66.0</td>\n",
       "      <td>35</td>\n",
       "      <td>0</td>\n",
       "      <td>Пермь</td>\n",
       "      <td>Гектор</td>\n",
       "      <td>Корнилов</td>\n",
       "      <td>2018-09-27</td>\n",
       "      <td>smart</td>\n",
       "      <td>598</td>\n",
       "    </tr>\n",
       "  </tbody>\n",
       "</table>\n",
       "<p>3168 rows × 14 columns</p>\n",
       "</div>"
      ],
      "text/plain": [
       "      month  user_id  calls_num  min_sum    gb_used  sms_num  age  \\\n",
       "1698      5     1000         17    159.0   2.203125     22.0   52   \n",
       "1700      7     1000         41    340.0  13.687500     75.0   52   \n",
       "1701      8     1000         42    408.0  13.740234     81.0   52   \n",
       "1702      9     1000         46    466.0  14.239258     57.0   52   \n",
       "1703     10     1000         44    350.0  14.372070     73.0   52   \n",
       "...     ...      ...        ...      ...        ...      ...  ...   \n",
       "2542      9     1498         53    471.0  21.646484     44.0   68   \n",
       "2917     11     1499         62    612.0  17.562500     59.0   35   \n",
       "2916     10     1499         44    449.0  17.391602     48.0   35   \n",
       "2915      9     1499          8     70.0   1.804688     11.0   35   \n",
       "2918     12     1499         56    492.0  12.770508     66.0   35   \n",
       "\n",
       "               churn_date         city first_name  last_name   reg_date  \\\n",
       "1698                    0    Краснодар     Рафаил  Верещагин 2018-05-25   \n",
       "1700                    0    Краснодар     Рафаил  Верещагин 2018-05-25   \n",
       "1701                    0    Краснодар     Рафаил  Верещагин 2018-05-25   \n",
       "1702                    0    Краснодар     Рафаил  Верещагин 2018-05-25   \n",
       "1703                    0    Краснодар     Рафаил  Верещагин 2018-05-25   \n",
       "...                   ...          ...        ...        ...        ...   \n",
       "2542  2018-10-25 00:00:00  Владикавказ   Всеволод    Акимчин 2018-07-19   \n",
       "2917                    0        Пермь     Гектор   Корнилов 2018-09-27   \n",
       "2916                    0        Пермь     Гектор   Корнилов 2018-09-27   \n",
       "2915                    0        Пермь     Гектор   Корнилов 2018-09-27   \n",
       "2918                    0        Пермь     Гектор   Корнилов 2018-09-27   \n",
       "\n",
       "     tariff  tariff_cost  \n",
       "1698  ultra         1950  \n",
       "1700  ultra         1950  \n",
       "1701  ultra         1950  \n",
       "1702  ultra         1950  \n",
       "1703  ultra         1950  \n",
       "...     ...          ...  \n",
       "2542  smart         1879  \n",
       "2917  smart         1426  \n",
       "2916  smart         1028  \n",
       "2915  smart          550  \n",
       "2918  smart          598  \n",
       "\n",
       "[3168 rows x 14 columns]"
      ]
     },
     "execution_count": 25,
     "metadata": {},
     "output_type": "execute_result"
    }
   ],
   "source": [
    "#построим функцию для расчета расходов на мобильную связь.\n",
    "def tariff_cost(row):\n",
    "    if row['tariff'] == 'smart':\n",
    "        if row['sms_num'] > 50:\n",
    "            sms_extra = (row['sms_num'] - 50)*3\n",
    "        else:\n",
    "            sms_extra = 0\n",
    "        if row['min_sum'] > 500:\n",
    "            min_extra = (row['min_sum'] - 500)*3\n",
    "        else:\n",
    "            min_extra = 0\n",
    "        if row['gb_used'] > 15:\n",
    "            gb_extra = (row['gb_used'] - 15)*200\n",
    "        else:\n",
    "            gb_extra = 0\n",
    "        total_cost = sms_extra + min_extra + gb_extra + 550\n",
    "    if row['tariff'] == 'ultra':\n",
    "        if row['sms_num'] > 1000:\n",
    "            sms_extra = (row['sms_num'] - 1000)*1\n",
    "        else:\n",
    "            sms_extra = 0\n",
    "        if row['min_sum'] > 3000:\n",
    "            min_extra = (row['min_sum'] - 3000)*1\n",
    "        else:\n",
    "            min_extra = 0\n",
    "        if row['gb_used'] > 30:\n",
    "            gb_extra = (row['gb_used'] - 30)*150\n",
    "        else:\n",
    "            gb_extra = 0\n",
    "        total_cost = sms_extra + min_extra + gb_extra + 1950\n",
    "    return total_cost\n",
    "\n",
    "group_all['tariff_cost'] = group_all.apply(tariff_cost, axis=1) #создадим столбец, куда запишем функцию с оплатой за пользование услугами для каждой строки\n",
    "group_all['tariff_cost'] = round(group_all['tariff_cost']) #для удобства я округляю все суммы в столбце\n",
    "group_all['tariff_cost'] = group_all['tariff_cost'].astype('int') #приводим столбец к формату int\n",
    "group_all"
   ]
  },
  {
   "cell_type": "markdown",
   "metadata": {},
   "source": [
    "### Вывод <a name=\"conc2\"></a>"
   ]
  },
  {
   "cell_type": "markdown",
   "metadata": {},
   "source": [
    "Мы соединили все таблицы кроме тарифов в одну. Теперь у нас есть по каждому клиенту вся доступная информация плюс его абонентская плата по месяцам. Уже на данном этапе можно увидеть перерасходы по тарифу Смарт. "
   ]
  },
  {
   "cell_type": "markdown",
   "metadata": {},
   "source": [
    "### Шаг 3. Проанализируйте данные <a name=\"third\"></a>"
   ]
  },
  {
   "cell_type": "markdown",
   "metadata": {},
   "source": [
    "Опишите поведение клиентов оператора, исходя из выборки. Сколько минут разговора, сколько сообщений и какой объём интернет-трафика требуется пользователям каждого тарифа в месяц? Посчитайте среднее количество, дисперсию и стандартное отклонение. Постройте гистограммы. Опишите распределения."
   ]
  },
  {
   "cell_type": "code",
   "execution_count": 26,
   "metadata": {},
   "outputs": [
    {
     "data": {
      "text/plain": [
       "count    2221.000000\n",
       "mean     1234.473210\n",
       "std       788.603908\n",
       "min       550.000000\n",
       "25%       550.000000\n",
       "50%       961.000000\n",
       "75%      1671.000000\n",
       "max      6711.000000\n",
       "Name: tariff_cost, dtype: float64"
      ]
     },
     "metadata": {},
     "output_type": "display_data"
    },
    {
     "data": {
      "text/plain": [
       "621896.1241693741"
      ]
     },
     "metadata": {},
     "output_type": "display_data"
    },
    {
     "data": {
      "text/plain": [
       "Text(0, 0.5, 'Кол-во пользователей, чел.')"
      ]
     },
     "execution_count": 26,
     "metadata": {},
     "output_type": "execute_result"
    },
    {
     "data": {
      "image/png": "[encoded data removed]",
      "text/plain": [
       "<Figure size 432x288 with 1 Axes>"
      ]
     },
     "metadata": {
      "needs_background": "light"
     },
     "output_type": "display_data"
    }
   ],
   "source": [
    "#создаем выборку только пользователей с тарифом Smart и смотрим по стоимости среднее, дисперсию, стандартное отклонение. Выводим диаграмму.\n",
    "smart = group_all.query('tariff == \"smart\"')\n",
    "display(smart['tariff_cost'].describe())\n",
    "var_smart = np.var(smart['tariff_cost'], ddof=1)\n",
    "display(var_smart)\n",
    "smart['tariff_cost'].hist(bins=50, range=(550,2000))\n",
    "\n",
    "# Add labels\n",
    "plt.title('Сколько платят пользователи')\n",
    "plt.xlabel('Сумма, руб.')\n",
    "plt.ylabel('Кол-во пользователей, чел.')"
   ]
  },
  {
   "cell_type": "code",
   "execution_count": 27,
   "metadata": {},
   "outputs": [
    {
     "data": {
      "text/plain": [
       "<matplotlib.axes._subplots.AxesSubplot at 0x7f4546850c50>"
      ]
     },
     "execution_count": 27,
     "metadata": {},
     "output_type": "execute_result"
    },
    {
     "data": {
      "image/png": "[encoded data removed]",
      "text/plain": [
       "<Figure size 432x288 with 1 Axes>"
      ]
     },
     "metadata": {
      "needs_background": "light"
     },
     "output_type": "display_data"
    }
   ],
   "source": [
    "smart.boxplot(column='tariff_cost')"
   ]
  },
  {
   "cell_type": "markdown",
   "metadata": {},
   "source": [
    "Среднее - 1234,47\n",
    "Ст. отклонение - 788,60\n",
    "Медиана - 961\n",
    "Дисперсия - 621896,12.\n",
    "На диаграмме видно, что около 600 человек платят 550 руб/мес, это самый высокий столбик диаграммы, соответственно какая-то часть людей не выходит за рамки тарифа. Но все же большинство выходят за рамки предоставленных услуг, это видно и по среднему и по медиане. В целом клиенты здесь не платят больше 2000 за месяц. "
   ]
  },
  {
   "cell_type": "code",
   "execution_count": 28,
   "metadata": {},
   "outputs": [
    {
     "data": {
      "text/plain": [
       "count    2221.000000\n",
       "mean       15.851038\n",
       "std         5.745554\n",
       "min         0.000000\n",
       "25%        12.375000\n",
       "50%        16.139648\n",
       "75%        19.597656\n",
       "max        37.705078\n",
       "Name: gb_used, dtype: float64"
      ]
     },
     "metadata": {},
     "output_type": "display_data"
    },
    {
     "data": {
      "text/plain": [
       "33.01138891705983"
      ]
     },
     "metadata": {},
     "output_type": "display_data"
    },
    {
     "data": {
      "text/plain": [
       "Text(0, 0.5, 'Кол-во пользователей, чел.')"
      ]
     },
     "execution_count": 28,
     "metadata": {},
     "output_type": "execute_result"
    },
    {
     "data": {
      "image/png": "[encoded data removed]",
      "text/plain": [
       "<Figure size 432x288 with 1 Axes>"
      ]
     },
     "metadata": {
      "needs_background": "light"
     },
     "output_type": "display_data"
    }
   ],
   "source": [
    "#Смотрим среднее, дисперсию и стандартное отклонение по использованному интернету среди пользователей Smart и выводим диаграмму. \n",
    "display(smart['gb_used'].describe())\n",
    "var_smart_gb = np.var(smart['gb_used'], ddof=1)\n",
    "display(var_smart_gb)\n",
    "smart['gb_used'].hist(bins=10)\n",
    "# Add labels\n",
    "plt.title('Расход трафика в тарифе')\n",
    "plt.xlabel('Расход трафика, гб.')\n",
    "plt.ylabel('Кол-во пользователей, чел.')"
   ]
  },
  {
   "cell_type": "markdown",
   "metadata": {},
   "source": [
    "Среднее - 15,85\n",
    "Ст. отклонение - 5,75\n",
    "Медиана - 16,14\n",
    "Дисперсия - 33,01.\n",
    "На диаграмме видно, что большинство значений лежит в промежутке от 15 до 20 гб. Соответственно здесь нормальное распределение с центром примерно на 16-18 гб. Соответственно по этой услуге часто происходит перерасход. Но часть клиентов в то же время в лимит укладывается. "
   ]
  },
  {
   "cell_type": "code",
   "execution_count": 29,
   "metadata": {},
   "outputs": [
    {
     "data": {
      "text/plain": [
       "count    2221.000000\n",
       "mean      419.440342\n",
       "std       188.992403\n",
       "min         2.000000\n",
       "25%       285.000000\n",
       "50%       423.000000\n",
       "75%       546.000000\n",
       "max      1435.000000\n",
       "Name: min_sum, dtype: float64"
      ]
     },
     "metadata": {},
     "output_type": "display_data"
    },
    {
     "data": {
      "text/plain": [
       "35718.128533936906"
      ]
     },
     "metadata": {},
     "output_type": "display_data"
    },
    {
     "data": {
      "text/plain": [
       "Text(0, 0.5, 'Кол-во пользователей, чел.')"
      ]
     },
     "execution_count": 29,
     "metadata": {},
     "output_type": "execute_result"
    },
    {
     "data": {
      "image/png": "[encoded data removed]",
      "text/plain": [
       "<Figure size 432x288 with 1 Axes>"
      ]
     },
     "metadata": {
      "needs_background": "light"
     },
     "output_type": "display_data"
    }
   ],
   "source": [
    "#Смотрим среднее, дисперсию и стандартное отклонение по звонкам среди пользователей Smart и выводим диаграмму.\n",
    "display(smart['min_sum'].describe())\n",
    "var_smart_min = np.var(smart['min_sum'], ddof=1)\n",
    "display(var_smart_min)\n",
    "smart['min_sum'].hist(bins=50)\n",
    "# Add labels\n",
    "plt.title('Расход минут в тарифе')\n",
    "plt.xlabel('Расход минут, мин.')\n",
    "plt.ylabel('Кол-во пользователей, чел.')"
   ]
  },
  {
   "cell_type": "markdown",
   "metadata": {},
   "source": [
    "Среднее - 419,44\n",
    "Ст. отклонение - 189\n",
    "Медиана - 423\n",
    "Дисперсия - 35718,13.\n",
    "Судя по диаграмме абсолютное большинство лежит в пределах 600 минут, это значит, что большинство клиентов укладываются в лимит 500 минут или незначительно его превышают. Среднее и медиана подтверждают эту теорию."
   ]
  },
  {
   "cell_type": "code",
   "execution_count": 30,
   "metadata": {},
   "outputs": [
    {
     "data": {
      "text/plain": [
       "count    2221.000000\n",
       "mean       33.392166\n",
       "std        28.270233\n",
       "min         0.000000\n",
       "25%        10.000000\n",
       "50%        28.000000\n",
       "75%        51.000000\n",
       "max       143.000000\n",
       "Name: sms_num, dtype: float64"
      ]
     },
     "metadata": {},
     "output_type": "display_data"
    },
    {
     "data": {
      "text/plain": [
       "799.2060467040656"
      ]
     },
     "metadata": {},
     "output_type": "display_data"
    },
    {
     "data": {
      "text/plain": [
       "Text(0, 0.5, 'Кол-во пользователей, чел.')"
      ]
     },
     "execution_count": 30,
     "metadata": {},
     "output_type": "execute_result"
    },
    {
     "data": {
      "image/png": "[encoded data removed]",
      "text/plain": [
       "<Figure size 432x288 with 1 Axes>"
      ]
     },
     "metadata": {
      "needs_background": "light"
     },
     "output_type": "display_data"
    }
   ],
   "source": [
    "#Смотрим среднее, дисперсию и стандартное отклонение по сообщениям среди пользователей Smart и выводим диаграмму.\n",
    "display(smart['sms_num'].describe())\n",
    "var_smart_sms = np.var(smart['sms_num'], ddof=1)\n",
    "display(var_smart_sms)\n",
    "smart['sms_num'].hist(bins=10)\n",
    "# Add labels\n",
    "plt.title('Расход смс в тарифе')\n",
    "plt.xlabel('Расход смс, шт.')\n",
    "plt.ylabel('Кол-во пользователей, чел.')"
   ]
  },
  {
   "cell_type": "markdown",
   "metadata": {},
   "source": [
    "Среднее - 33,4\n",
    "Ст. отклонение - 28,27\n",
    "Медиана - 28\n",
    "Дисперсия - 799,20.\n",
    "Лимит 50 сообщений, после 20 сообщений на диаграмме идет плавное снижение. В большинстве своем значения находятся в интервале до 60 сообщений, значит у большинства клиентов нет перерасхода по смс. "
   ]
  },
  {
   "cell_type": "code",
   "execution_count": 31,
   "metadata": {},
   "outputs": [
    {
     "data": {
      "text/plain": [
       "count     947.000000\n",
       "mean     2061.942978\n",
       "std       360.136116\n",
       "min      1950.000000\n",
       "25%      1950.000000\n",
       "50%      1950.000000\n",
       "75%      1950.000000\n",
       "max      4743.000000\n",
       "Name: tariff_cost, dtype: float64"
      ]
     },
     "metadata": {},
     "output_type": "display_data"
    },
    {
     "data": {
      "text/plain": [
       "129698.02211501324"
      ]
     },
     "metadata": {},
     "output_type": "display_data"
    },
    {
     "data": {
      "text/plain": [
       "Text(0, 0.5, 'Кол-во пользователей, чел.')"
      ]
     },
     "execution_count": 31,
     "metadata": {},
     "output_type": "execute_result"
    },
    {
     "data": {
      "image/png": "[encoded data removed]",
      "text/plain": [
       "<Figure size 432x288 with 1 Axes>"
      ]
     },
     "metadata": {
      "needs_background": "light"
     },
     "output_type": "display_data"
    }
   ],
   "source": [
    "#создаем выборку только пользователей с тарифом Ultra и смотрим по стоимости среднее, дисперсию, стандартное отклонение. Выводим диаграмму.\n",
    "ultra = group_all.query('tariff == \"ultra\"')\n",
    "display(ultra['tariff_cost'].describe())\n",
    "var_ultra = np.var(ultra['tariff_cost'], ddof=1)\n",
    "display(var_ultra)\n",
    "ultra['tariff_cost'].hist(bins=50)\n",
    "# Add labels\n",
    "plt.title('Сколько платят пользователи')\n",
    "plt.xlabel('Сумма, руб.')\n",
    "plt.ylabel('Кол-во пользователей, чел.')"
   ]
  },
  {
   "cell_type": "code",
   "execution_count": 32,
   "metadata": {},
   "outputs": [
    {
     "data": {
      "text/plain": [
       "<matplotlib.axes._subplots.AxesSubplot at 0x7f45463b0350>"
      ]
     },
     "execution_count": 32,
     "metadata": {},
     "output_type": "execute_result"
    },
    {
     "data": {
      "image/png": "[encoded data removed]",
      "text/plain": [
       "<Figure size 432x288 with 1 Axes>"
      ]
     },
     "metadata": {
      "needs_background": "light"
     },
     "output_type": "display_data"
    }
   ],
   "source": [
    "ultra.boxplot(column='tariff_cost')"
   ]
  },
  {
   "cell_type": "markdown",
   "metadata": {},
   "source": [
    "Среднее - 2062\n",
    "Ст. отклонение - 360\n",
    "Медиана - 1950\n",
    "Дисперсия - 129698,02.\n",
    "На диаграмме видно, что абсолютное большинство находится на отметке 1950 руб., что означает, пользователи тарифа ультра почти не превышают лимит."
   ]
  },
  {
   "cell_type": "code",
   "execution_count": 33,
   "metadata": {},
   "outputs": [
    {
     "data": {
      "text/plain": [
       "count    947.000000\n",
       "mean      19.032883\n",
       "std        9.899449\n",
       "min        0.000000\n",
       "25%       11.360840\n",
       "50%       18.881836\n",
       "75%       26.237305\n",
       "max       48.622070\n",
       "Name: gb_used, dtype: float64"
      ]
     },
     "metadata": {},
     "output_type": "display_data"
    },
    {
     "data": {
      "text/plain": [
       "97.99909293729371"
      ]
     },
     "metadata": {},
     "output_type": "display_data"
    },
    {
     "data": {
      "text/plain": [
       "Text(0, 0.5, 'Кол-во пользователей, чел.')"
      ]
     },
     "execution_count": 33,
     "metadata": {},
     "output_type": "execute_result"
    },
    {
     "data": {
      "image/png": "[encoded data removed]",
      "text/plain": [
       "<Figure size 432x288 with 1 Axes>"
      ]
     },
     "metadata": {
      "needs_background": "light"
     },
     "output_type": "display_data"
    }
   ],
   "source": [
    "#Смотрим среднее, дисперсию и стандартное отклонение по использованному интернету среди пользователей Ultra и выводим диаграмму.\n",
    "display(ultra['gb_used'].describe())\n",
    "var_ultra_gb = np.var(ultra['gb_used'], ddof=1)\n",
    "display(var_ultra_gb)\n",
    "ultra['gb_used'].hist(bins=10)\n",
    "# Add labels\n",
    "plt.title('Расход трафика в тарифе')\n",
    "plt.xlabel('Расход трафика, гб.')\n",
    "plt.ylabel('Кол-во пользователей, чел.')"
   ]
  },
  {
   "cell_type": "markdown",
   "metadata": {},
   "source": [
    "Среднее - 19\n",
    "Ст. отклонение - 9,9\n",
    "Медиана - 19\n",
    "Дисперсия - 98.\n",
    "На диаграмме видно, что абсолютное большинство лежит в пределах 30 гб, примерно после 26 значения резко падают, что означает, пользователи тарифа ультра почти не превышают лимит интернета."
   ]
  },
  {
   "cell_type": "code",
   "execution_count": 34,
   "metadata": {},
   "outputs": [
    {
     "data": {
      "text/plain": [
       "count     947.000000\n",
       "mean      547.755016\n",
       "std       305.513385\n",
       "min         1.000000\n",
       "25%       311.000000\n",
       "50%       529.000000\n",
       "75%       758.000000\n",
       "max      1673.000000\n",
       "Name: min_sum, dtype: float64"
      ]
     },
     "metadata": {},
     "output_type": "display_data"
    },
    {
     "data": {
      "text/plain": [
       "93338.42829141095"
      ]
     },
     "metadata": {},
     "output_type": "display_data"
    },
    {
     "data": {
      "text/plain": [
       "Text(0, 0.5, 'Кол-во пользователей, чел.')"
      ]
     },
     "execution_count": 34,
     "metadata": {},
     "output_type": "execute_result"
    },
    {
     "data": {
      "image/png": "[encoded data removed]",
      "text/plain": [
       "<Figure size 432x288 with 1 Axes>"
      ]
     },
     "metadata": {
      "needs_background": "light"
     },
     "output_type": "display_data"
    }
   ],
   "source": [
    "#Смотрим среднее, дисперсию и стандартное отклонение по звонкам среди пользователей Ultra и выводим диаграмму.\n",
    "display(ultra['min_sum'].describe())\n",
    "var_ultra_min = np.var(ultra['min_sum'], ddof=1)\n",
    "display(var_ultra_min)\n",
    "ultra['min_sum'].hist(bins=10)\n",
    "plt.title('Расход минут в тарифе')\n",
    "plt.xlabel('Расход минут, мин.')\n",
    "plt.ylabel('Кол-во пользователей, чел.')"
   ]
  },
  {
   "cell_type": "markdown",
   "metadata": {},
   "source": [
    "Среднее - 547\n",
    "Ст. отклонение - 306\n",
    "Медиана - 529\n",
    "Дисперсия - 93338,43\n",
    "Максимальное значение - 1673 минуты, при лимите в 3000. Соответственно все пользователи укладываются в лимит минут. Пиковое значение - 500-600 минут в месяц. "
   ]
  },
  {
   "cell_type": "code",
   "execution_count": 35,
   "metadata": {},
   "outputs": [
    {
     "data": {
      "text/plain": [
       "count    947.000000\n",
       "mean      48.759240\n",
       "std       46.601785\n",
       "min        0.000000\n",
       "25%        5.000000\n",
       "50%       39.000000\n",
       "75%       78.500000\n",
       "max      224.000000\n",
       "Name: sms_num, dtype: float64"
      ]
     },
     "metadata": {},
     "output_type": "display_data"
    },
    {
     "data": {
      "text/plain": [
       "2171.7263283853986"
      ]
     },
     "metadata": {},
     "output_type": "display_data"
    },
    {
     "data": {
      "text/plain": [
       "Text(0, 0.5, 'Кол-во пользователей, чел.')"
      ]
     },
     "execution_count": 35,
     "metadata": {},
     "output_type": "execute_result"
    },
    {
     "data": {
      "image/png": "[encoded data removed]",
      "text/plain": [
       "<Figure size 432x288 with 1 Axes>"
      ]
     },
     "metadata": {
      "needs_background": "light"
     },
     "output_type": "display_data"
    }
   ],
   "source": [
    "#Смотрим среднее, дисперсию и стандартное отклонение по сообщениям среди пользователей Ultra и выводим диаграмму.\n",
    "display(ultra['sms_num'].describe())\n",
    "var_ultra_sms = np.var(ultra['sms_num'], ddof=1)\n",
    "display(var_ultra_sms)\n",
    "ultra['sms_num'].hist(bins=10)\n",
    "# Add labels\n",
    "plt.title('Расход смс в тарифе')\n",
    "plt.xlabel('Расход смс, шт.')\n",
    "plt.ylabel('Кол-во пользователей, чел.')"
   ]
  },
  {
   "cell_type": "markdown",
   "metadata": {},
   "source": [
    "Среднее - 49\n",
    "Ст. отклонение - 47\n",
    "Медиана - 39\n",
    "Дисперсия - 2171,72\n",
    "На диаграмме видно, что абсолютное большинство отправляет не больше 100 сообщений в месяц. К лимиту в 1000 никто даже не приближается. "
   ]
  },
  {
   "cell_type": "markdown",
   "metadata": {},
   "source": [
    "### Вывод <a name=\"conc3\"></a>"
   ]
  },
  {
   "cell_type": "markdown",
   "metadata": {},
   "source": [
    "В предыдущих выводах, взглянув на таблицу я заметила, что перерасходов по тарифу смарт больше. Здесь гипотеза подтвердилась, чаще всего люди выходят за рамки лимита в тарифе смарт. \n",
    "И среднее и медиана выходят за рамки установленной оплаты тарифного плана Смарт - 550 руб. Это значит, что пользователям не хватает установленных лимитов связи в тарифе. В то время, как в тарифе Ультра нормальным значением является базовая стоимость тарифа - 1950 руб. Кроме того, в тарифе Ультра люди очень далеки от лимитов по минутам и сообщениям, а в Смарт основная доля перерасходов и больших переплат приходится на интернет. \n",
    "Соответственно, можно сделать вывод, что оба этих тарифа не очень выгодны для клиентов, т.к. те, кто хочет сэкономить, берут дешевый тариф, т.к. даже с превышениями лимитов это дешевле, чем Ультра, а клиенты тарифа Ультра переплачивают примерно за 1000 лишних минут и около 800 лишних смс. \n",
    "Возможно новый тариф с увеличенным лимитом на интернет и уменьшенным лимитом на смс и звонки произвел бы фурор. "
   ]
  },
  {
   "cell_type": "markdown",
   "metadata": {},
   "source": [
    "### Шаг 4. Проверьте гипотезы <a name=\"forth\"></a>"
   ]
  },
  {
   "cell_type": "markdown",
   "metadata": {},
   "source": [
    "средняя выручка пользователей тарифов «Ультра» и «Смарт» различается;\n",
    "средняя выручка пользователей из Москвы отличается от выручки пользователей из других регионов;\n",
    "Пороговое значение alpha задайте самостоятельно.\n",
    "Поясните:\n",
    "как вы формулировали нулевую и альтернативную гипотезы;\n",
    "какой критерий использовали для проверки гипотез и почему."
   ]
  },
  {
   "cell_type": "markdown",
   "metadata": {},
   "source": [
    "##### Первая нулевая гипотеза: средняя выручка пользователей тарифов Ультра и Смарт равны\n",
    "##### Вторая нулевая гипотеза: средняя выручка пользователей из Москвы равна региональной. \n",
    "##### Нулевая гипотеза всегда формируется со знаком равенства. Альтернативная гипотеза показывает нам, что все варианты выше не равны. "
   ]
  },
  {
   "cell_type": "code",
   "execution_count": 36,
   "metadata": {},
   "outputs": [
    {
     "data": {
      "text/plain": [
       "0.13734916787251852"
      ]
     },
     "metadata": {},
     "output_type": "display_data"
    },
    {
     "data": {
      "text/plain": [
       "635043.5474245835"
      ]
     },
     "metadata": {},
     "output_type": "display_data"
    },
    {
     "data": {
      "text/plain": [
       "547820.8446230047"
      ]
     },
     "metadata": {},
     "output_type": "display_data"
    }
   ],
   "source": [
    "#создаем группировку по регионам\n",
    "msk_group = group_all.query('city == \"Москва\"')\n",
    "reg_group = group_all.query('city != \"Москва\"')\n",
    "#смотрим разницу дисперсий по городам\n",
    "var_msk = np.var(msk_group['tariff_cost'], ddof=1)\n",
    "var_reg = np.var(reg_group['tariff_cost'], ddof=1)\n",
    "display((var_reg - var_msk) / var_reg)\n",
    "display(var_reg)\n",
    "display(var_msk)"
   ]
  },
  {
   "cell_type": "code",
   "execution_count": 37,
   "metadata": {},
   "outputs": [
    {
     "data": {
      "text/plain": [
       "0.7914474506683212"
      ]
     },
     "metadata": {},
     "output_type": "display_data"
    },
    {
     "data": {
      "text/plain": [
       "621896.1241693741"
      ]
     },
     "metadata": {},
     "output_type": "display_data"
    },
    {
     "data": {
      "text/plain": [
       "129698.02211501324"
      ]
     },
     "metadata": {},
     "output_type": "display_data"
    }
   ],
   "source": [
    "#смотрим разницу дисперсий по тарифам\n",
    "display((var_smart - var_ultra) / var_smart)\n",
    "display(var_smart)\n",
    "display(var_ultra)"
   ]
  },
  {
   "cell_type": "code",
   "execution_count": 38,
   "metadata": {},
   "outputs": [
    {
     "name": "stdout",
     "output_type": "stream",
     "text": [
      "p-значение:  2.2206799235918344e-289\n",
      "Отвергаем нулевую гипотезу\n"
     ]
    },
    {
     "data": {
      "text/plain": [
       "1234.473210265646"
      ]
     },
     "metadata": {},
     "output_type": "display_data"
    },
    {
     "data": {
      "text/plain": [
       "2061.9429778247095"
      ]
     },
     "execution_count": 38,
     "metadata": {},
     "output_type": "execute_result"
    }
   ],
   "source": [
    "#Проверка гипотезы, что средняя выручка пользователей Смарт и Ультра не различается (равна):\n",
    "#т.к. разница дисперсий более 10%, ставим equal_var=False\n",
    "alpha = .05\n",
    "results=st.ttest_ind(smart['tariff_cost'],ultra['tariff_cost'],equal_var=False)\n",
    "\n",
    "print('p-значение: ', results.pvalue)\n",
    "    \n",
    "if (results.pvalue < alpha):\n",
    "    print(\"Отвергаем нулевую гипотезу\")\n",
    "else:\n",
    "    print(\"Не получилось отвергнуть нулевую гипотезу\") \n",
    "    \n",
    "display(smart['tariff_cost'].mean())\n",
    "ultra['tariff_cost'].mean()"
   ]
  },
  {
   "cell_type": "markdown",
   "metadata": {},
   "source": [
    "Гипотеза подтвердилась. С высокой долей вероятности выручка с тарифов Смарт и Ультра различается."
   ]
  },
  {
   "cell_type": "code",
   "execution_count": 39,
   "metadata": {},
   "outputs": [
    {
     "name": "stdout",
     "output_type": "stream",
     "text": [
      "p-значение:  0.3658457385677769\n",
      "Не получилось отвергнуть нулевую гипотезу\n"
     ]
    },
    {
     "data": {
      "text/plain": [
       "1506.5590163934426"
      ]
     },
     "metadata": {},
     "output_type": "display_data"
    },
    {
     "data": {
      "text/plain": [
       "1475.928068803753"
      ]
     },
     "execution_count": 39,
     "metadata": {},
     "output_type": "execute_result"
    }
   ],
   "source": [
    "#Проверка гипотезы, что средняя выручка пользователей из Москвы и регионов не различается (равна):\n",
    "#т.к. разница дисперсий более 10%, ставим equal_var=False\n",
    "\n",
    "results=st.ttest_ind(msk_group['tariff_cost'],reg_group['tariff_cost'],equal_var=False)\n",
    "\n",
    "print('p-значение: ', results.pvalue)\n",
    "    \n",
    "if (results.pvalue < alpha):\n",
    "    print(\"Отвергаем нулевую гипотезу\")\n",
    "else:\n",
    "    print(\"Не получилось отвергнуть нулевую гипотезу\") \n",
    "\n",
    "display(msk_group['tariff_cost'].mean())\n",
    "reg_group['tariff_cost'].mean()"
   ]
  },
  {
   "cell_type": "markdown",
   "metadata": {},
   "source": [
    "Гипотеза не подтвердилась. Средние расходы пользователей из Москвы с высокой долей вероятности не отличаются."
   ]
  },
  {
   "cell_type": "markdown",
   "metadata": {},
   "source": [
    "### Шаг 5. Напишите общий вывод <a name=\"conc\"></a>"
   ]
  },
  {
   "cell_type": "markdown",
   "metadata": {},
   "source": [
    "Большая доля перерасходов по тарифу приходится на пользователей тарифа Смарт. \n",
    "Пользователи тарифа Ультра никогда не используют полностью лимиты на мобильную связь и сообщения. \n",
    "Пользователи Москвы и пользователи регионов в среднем тратят одинаковые суммы на связь. \n",
    "Тариф Ультра является самым доходным тарифом в линейке из-за высокой абонентской платы. \n",
    "По тарифу Смарт у клиентов почти всегда есть перерасход (среднее и медиана выходят за рамки установленной оплаты тарифного плана Смарт - 550 руб). Пользователям не хватает установленных лимитов связи в тарифе. \n",
    "В тарифе Ультра 1950 - нормальное значение для оплаты, лимит почти никто не превышает. \n",
    "В тарифе Ультра люди очень далеки от лимитов по минутам и сообщениям, а в Смарт основная доля перерасходов и больших переплат приходится на интернет. \n",
    "\n",
    "Соответственно, можно сделать вывод, что оба этих тарифа не очень выгодны для клиентов, т.к. те, кто хочет сэкономить, берут дешевый тариф, т.к. даже с превышениями лимитов это дешевле, чем Ультра, а клиенты тарифа Ультра переплачивают примерно за 1000 лишних минут и около 800 лишних смс. \n",
    "\n",
    "Возможно новый тариф с увеличенным лимитом на интернет и уменьшенным лимитом на смс и звонки произвел бы фурор. "
   ]
  },
  {
   "cell_type": "markdown",
   "metadata": {},
   "source": [
    "### Описание данных\n",
    "Таблица users (информация о пользователях):\n",
    "user_id — уникальный идентификатор пользователя\n",
    "first_name — имя пользователя\n",
    "last_name — фамилия пользователя\n",
    "age — возраст пользователя (годы)\n",
    "reg_date — дата подключения тарифа (день, месяц, год)\n",
    "churn_date — дата прекращения пользования тарифом (если значение пропущено, то тариф ещё действовал на момент выгрузки данных)\n",
    "city — город проживания пользователя\n",
    "tariff — название тарифного плана\n",
    "\n",
    "Таблица calls (информация о звонках):\n",
    "id — уникальный номер звонка\n",
    "call_date — дата звонка\n",
    "duration — длительность звонка в минутах\n",
    "user_id — идентификатор пользователя, сделавшего звонок\n",
    "\n",
    "Таблица messages (информация о сообщениях):\n",
    "id — уникальный номер сообщения\n",
    "message_date — дата сообщения\n",
    "user_id — идентификатор пользователя, отправившего сообщение\n",
    "\n",
    "Таблица internet (информация об интернет-сессиях):\n",
    "id — уникальный номер сессии\n",
    "mb_used — объём потраченного за сессию интернет-трафика (в мегабайтах)\n",
    "session_date — дата интернет-сессии\n",
    "user_id — идентификатор пользователя\n",
    "\n",
    "Таблица tariffs (информация о тарифах):\n",
    "tariff_name — название тарифа\n",
    "rub_monthly_fee — ежемесячная абонентская плата в рублях\n",
    "minutes_included — количество минут разговора в месяц, включённых в абонентскую плату\n",
    "messages_included — количество сообщений в месяц, включённых в абонентскую плату\n",
    "mb_per_month_included — объём интернет-трафика, включённого в абонентскую плату (в мегабайтах)\n",
    "rub_per_minute — стоимость минуты разговора сверх тарифного пакета (например, если в тарифе 100 минут разговора в месяц, то со 101 минуты будет взиматься плата)\n",
    "rub_per_message — стоимость отправки сообщения сверх тарифного пакета\n",
    "rub_per_gb — стоимость дополнительного гигабайта интернет-трафика сверх тарифного пакета (1 гигабайт = 1024 мегабайта)\n",
    "\n",
    "Примечание. Если объединение таблиц методом merge приводит к ошибке dead kernell, примените метод join — это облегчит нагрузку на Jupyter Notebook."
   ]
  },
  {
   "cell_type": "code",
   "execution_count": null,
   "metadata": {},
   "outputs": [],
   "source": []
  }
 ],
 "metadata": {
  "kernelspec": {
   "display_name": "Python 3",
   "language": "python",
   "name": "python3"
  },
  "language_info": {
   "codemirror_mode": {
    "name": "ipython",
    "version": 3
   },
   "file_extension": ".py",
   "mimetype": "text/x-python",
   "name": "python",
   "nbconvert_exporter": "python",
   "pygments_lexer": "ipython3",
   "version": "3.8.5"
  }
 },
 "nbformat": 4,
 "nbformat_minor": 2
}
