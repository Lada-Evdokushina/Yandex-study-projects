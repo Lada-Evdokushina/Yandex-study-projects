{
 "cells": [
  {
   "cell_type": "markdown",
   "metadata": {},
   "source": [
    "## Исследование надёжности заёмщиков\n",
    "\n",
    "Заказчик — кредитный отдел банка. Нужно разобраться, влияет ли семейное положение и количество детей клиента на факт погашения кредита в срок. Входные данные от банка — статистика о платёжеспособности клиентов.\n",
    "\n",
    "Результаты исследования будут учтены при построении модели **кредитного скоринга** — специальной системы, которая оценивает способность потенциального заёмщика вернуть кредит банку."
   ]
  },
  {
   "cell_type": "markdown",
   "metadata": {},
   "source": [
    "### Шаг 1. Откройте файл с данными и изучите общую информацию. "
   ]
  },
  {
   "cell_type": "code",
   "execution_count": 96,
   "metadata": {},
   "outputs": [
    {
     "name": "stdout",
     "output_type": "stream",
     "text": [
      "<class 'pandas.core.frame.DataFrame'>\n",
      "RangeIndex: 21525 entries, 0 to 21524\n",
      "Data columns (total 12 columns):\n",
      "children            21525 non-null int64\n",
      "days_employed       19351 non-null float64\n",
      "dob_years           21525 non-null int64\n",
      "education           21525 non-null object\n",
      "education_id        21525 non-null int64\n",
      "family_status       21525 non-null object\n",
      "family_status_id    21525 non-null int64\n",
      "gender              21525 non-null object\n",
      "income_type         21525 non-null object\n",
      "debt                21525 non-null int64\n",
      "total_income        19351 non-null float64\n",
      "purpose             21525 non-null object\n",
      "dtypes: float64(2), int64(5), object(5)\n",
      "memory usage: 2.0+ MB\n"
     ]
    },
    {
     "data": {
      "text/plain": [
       "None"
      ]
     },
     "metadata": {},
     "output_type": "display_data"
    }
   ],
   "source": [
    "import pandas as pd\n",
    "data = pd.read_csv('/datasets/data.csv')\n",
    "display(data.info())"
   ]
  },
  {
   "cell_type": "markdown",
   "metadata": {},
   "source": [
    "### Вывод"
   ]
  },
  {
   "cell_type": "markdown",
   "metadata": {},
   "source": [
    "Есть пропущенные данные в столбцах days_employed и total_income. Данные типа float64, то есть вещественное число. Следующим шагом заменим данные в этих столбцах на среднее арифметическое каждого столбца.\n"
   ]
  },
  {
   "cell_type": "markdown",
   "metadata": {},
   "source": [
    "### Шаг 2. Предобработка данных"
   ]
  },
  {
   "cell_type": "markdown",
   "metadata": {},
   "source": [
    "### Обработка пропусков"
   ]
  },
  {
   "cell_type": "code",
   "execution_count": 97,
   "metadata": {},
   "outputs": [
    {
     "name": "stdout",
     "output_type": "stream",
     "text": [
      "<class 'pandas.core.frame.DataFrame'>\n",
      "RangeIndex: 21525 entries, 0 to 21524\n",
      "Data columns (total 12 columns):\n",
      "children            21525 non-null int64\n",
      "days_employed       21525 non-null float64\n",
      "dob_years           21525 non-null int64\n",
      "education           21525 non-null object\n",
      "education_id        21525 non-null int64\n",
      "family_status       21525 non-null object\n",
      "family_status_id    21525 non-null int64\n",
      "gender              21525 non-null object\n",
      "income_type         21525 non-null object\n",
      "debt                21525 non-null int64\n",
      "total_income        21525 non-null float64\n",
      "purpose             21525 non-null object\n",
      "dtypes: float64(2), int64(5), object(5)\n",
      "memory usage: 2.0+ MB\n"
     ]
    },
    {
     "data": {
      "text/plain": [
       "None"
      ]
     },
     "metadata": {},
     "output_type": "display_data"
    }
   ],
   "source": [
    "data['days_employed'] = data['days_employed'].abs()#замена отрицательных значений в столбце 'days_employed'\n",
    "avg_days = data['days_employed'].mean() #Подсчет среднего в столбце days_employed\n",
    "avg_income = data.groupby('income_type')['total_income'].transform('median') #подсчет медианного значения в total income\n",
    "#avg_income = data['total_income'].mean() #Подсчет среднего в столбце total_income\n",
    "data['days_employed'] = data['days_employed'].fillna(value=avg_days) #Замена пропущенных данных на среднее значение в столбце days_employed\n",
    "data['total_income'] = data['total_income'].fillna(value=avg_income) #Замена пропущенных данных на среднее значение в столбце total_income\n",
    "display(data.info()) #вывод обновленной информации о таблице."
   ]
  },
  {
   "cell_type": "markdown",
   "metadata": {},
   "source": [
    "### Вывод"
   ]
  },
  {
   "cell_type": "markdown",
   "metadata": {},
   "source": [
    "Мы рассчитали средее значение для каждого столбца с пропущенными данными. После произвели замену пропущенных данных на средние значения. При выводе таблицы можно увидеть, что сейчас пропусков в данных нет, количество значений во всех строках одинаково.\n",
    "Данные могли появиться в результате ошибки при вводе информации, или же, так как это сведения о людях, их могли отказаться предоставлять. "
   ]
  },
  {
   "cell_type": "markdown",
   "metadata": {},
   "source": [
    "### Замена типа данных"
   ]
  },
  {
   "cell_type": "code",
   "execution_count": 98,
   "metadata": {},
   "outputs": [
    {
     "name": "stdout",
     "output_type": "stream",
     "text": [
      "<class 'pandas.core.frame.DataFrame'>\n",
      "RangeIndex: 21525 entries, 0 to 21524\n",
      "Data columns (total 12 columns):\n",
      "children            21525 non-null int64\n",
      "days_employed       21525 non-null int64\n",
      "dob_years           21525 non-null int64\n",
      "education           21525 non-null object\n",
      "education_id        21525 non-null int64\n",
      "family_status       21525 non-null object\n",
      "family_status_id    21525 non-null int64\n",
      "gender              21525 non-null object\n",
      "income_type         21525 non-null object\n",
      "debt                21525 non-null int64\n",
      "total_income        21525 non-null int64\n",
      "purpose             21525 non-null object\n",
      "dtypes: int64(7), object(5)\n",
      "memory usage: 2.0+ MB\n",
      "None\n"
     ]
    }
   ],
   "source": [
    "data['days_employed'] = data['days_employed'].astype('int') # замена типа данных столбца days_employed из вещественного числа в целое\n",
    "data['total_income'] = data['total_income'].astype('int') # замена типа данных столбца total_income из вещественного числа в целое\n",
    "data['children'] = data['children'].replace(-1, 1) #замена отрицательного значения в детях\n",
    "data['days_employed'] = data['days_employed'].abs()#замена отрицательных значений в столбце 'days_employed'\n",
    "print(data.info()) # выводим информацию о таблице\n"
   ]
  },
  {
   "cell_type": "markdown",
   "metadata": {},
   "source": [
    "### Вывод"
   ]
  },
  {
   "cell_type": "markdown",
   "metadata": {},
   "source": [
    "В таблице присутствовали данные типа float64, что является \"вещественным числом\". С помощью функции astype() мы преобразовали их в данные типа int64, что является целым числом. \n",
    "С помощью функции info() видим, что в таблице остались только количественные данные типа int и текстовые данные типа object"
   ]
  },
  {
   "cell_type": "markdown",
   "metadata": {},
   "source": [
    "### Обработка дубликатов"
   ]
  },
  {
   "cell_type": "code",
   "execution_count": 99,
   "metadata": {},
   "outputs": [
    {
     "data": {
      "text/plain": [
       "71"
      ]
     },
     "metadata": {},
     "output_type": "display_data"
    },
    {
     "name": "stdout",
     "output_type": "stream",
     "text": [
      "<class 'pandas.core.frame.DataFrame'>\n",
      "RangeIndex: 21454 entries, 0 to 21453\n",
      "Data columns (total 12 columns):\n",
      "children            21454 non-null int64\n",
      "days_employed       21454 non-null int64\n",
      "dob_years           21454 non-null int64\n",
      "education           21454 non-null object\n",
      "education_id        21454 non-null int64\n",
      "family_status       21454 non-null object\n",
      "family_status_id    21454 non-null int64\n",
      "gender              21454 non-null object\n",
      "income_type         21454 non-null object\n",
      "debt                21454 non-null int64\n",
      "total_income        21454 non-null int64\n",
      "purpose             21454 non-null object\n",
      "dtypes: int64(7), object(5)\n",
      "memory usage: 2.0+ MB\n"
     ]
    },
    {
     "data": {
      "text/plain": [
       "None"
      ]
     },
     "metadata": {},
     "output_type": "display_data"
    }
   ],
   "source": [
    "data['education'] = data['education'].str.lower() # приводим все значения в столбце \"education\" к нижнему регистру\n",
    "display(data.duplicated().sum()) # подсчитываем количество дубликатов\n",
    "data = data.drop_duplicates().reset_index(drop = True) # удаляем задублированные строки\n",
    "display(data.info()) #выводим инфо о таблице, чтобы понять, что задублированные строки удалены"
   ]
  },
  {
   "cell_type": "markdown",
   "metadata": {},
   "source": [
    "### Вывод"
   ]
  },
  {
   "cell_type": "markdown",
   "metadata": {},
   "source": [
    "Сначала приводим значения в столбце \"education\" к нижнему регистру. \n",
    "После выполняем поиск дупликатов. Всего в файле была выявлена 71 полностью идентичная строка. \n",
    "После при помощи функции drop_duplicates().reset_index(drop = True) удаляем дублирующиеся строки. "
   ]
  },
  {
   "cell_type": "code",
   "execution_count": 100,
   "metadata": {},
   "outputs": [
    {
     "data": {
      "text/plain": [
       "Counter({\"['\": 1,\n",
       "         'покупка': 10,\n",
       "         ' ': 59,\n",
       "         'жилье': 7,\n",
       "         \"' '\": 23,\n",
       "         'приобретение': 1,\n",
       "         'автомобиль': 9,\n",
       "         'дополнительный': 2,\n",
       "         'образование': 9,\n",
       "         \"'\\n\": 14,\n",
       "         \" '\": 14,\n",
       "         'сыграть': 1,\n",
       "         'свадьба': 3,\n",
       "         'операция': 4,\n",
       "         'с': 5,\n",
       "         'на': 4,\n",
       "         'проведение': 1,\n",
       "         'для': 2,\n",
       "         'семья': 1,\n",
       "         'недвижимость': 10,\n",
       "         'коммерческий': 2,\n",
       "         'жилой': 2,\n",
       "         'строительство': 3,\n",
       "         'собственный': 1,\n",
       "         'подержать': 2,\n",
       "         'свой': 4,\n",
       "         'со': 1,\n",
       "         'заниматься': 2,\n",
       "         'сделка': 2,\n",
       "         'получение': 3,\n",
       "         'высокий': 3,\n",
       "         'профильный': 1,\n",
       "         'сдача': 1,\n",
       "         'ремонт': 1,\n",
       "         \"']\\n\": 1})"
      ]
     },
     "metadata": {},
     "output_type": "display_data"
    }
   ],
   "source": [
    "purpose_unique = str(data['purpose'].unique()) #просматриваем уникальные значения в столбце \"purpose\"\n",
    "#display(purpose_unique) # просматриваем данные и комментируем строку, чтобы они не мешали в дальнейшем\n",
    "from pymystem3 import Mystem #импортируем библиотеку лемм\n",
    "m = Mystem() # задаем переменную для библиотеки\n",
    "lemmas = m.lemmatize(purpose_unique) #лемматизируем \"purpose_unique\"\n",
    "from collections import Counter #вызываем контейнер для подсчета уникальных лемм\n",
    "display(Counter(lemmas))  #выводим на печать и просматриваем данные, чтобы выявить цели для кредита  \n",
    "\n"
   ]
  },
  {
   "cell_type": "markdown",
   "metadata": {},
   "source": [
    "### Вывод"
   ]
  },
  {
   "cell_type": "markdown",
   "metadata": {},
   "source": [
    "Чаще всего кредит берется на приобретение недвижимости, образование, и автомобили. \n",
    "Реже на свадьбы."
   ]
  },
  {
   "cell_type": "markdown",
   "metadata": {},
   "source": [
    "### Категоризация данных"
   ]
  },
  {
   "cell_type": "code",
   "execution_count": 101,
   "metadata": {},
   "outputs": [
    {
     "name": "stdout",
     "output_type": "stream",
     "text": [
      "<class 'pandas.core.frame.DataFrame'>\n",
      "RangeIndex: 21454 entries, 0 to 21453\n",
      "Data columns (total 17 columns):\n",
      "children            21454 non-null int64\n",
      "days_employed       21454 non-null int64\n",
      "dob_years           21454 non-null int64\n",
      "education           21454 non-null object\n",
      "education_id        21454 non-null int64\n",
      "family_status       21454 non-null object\n",
      "family_status_id    21454 non-null int64\n",
      "gender              21454 non-null object\n",
      "income_type         21454 non-null object\n",
      "debt                21454 non-null int64\n",
      "total_income        21454 non-null int64\n",
      "purpose             21454 non-null object\n",
      "children_status     21454 non-null object\n",
      "salary_status       21454 non-null object\n",
      "age_group           21454 non-null object\n",
      "purpose_stat        21454 non-null object\n",
      "debt_stat           21454 non-null object\n",
      "dtypes: int64(7), object(10)\n",
      "memory usage: 2.8+ MB\n"
     ]
    },
    {
     "data": {
      "text/plain": [
       "None"
      ]
     },
     "metadata": {},
     "output_type": "display_data"
    }
   ],
   "source": [
    "def kids_group(children): #создаем функцию для разделения заемщиков на две группы: \"есть дети\" и \"нет детей\"\n",
    "    if children < 1:\n",
    "        return 'бездетные'\n",
    "    return 'есть дети'\n",
    "data['children_status'] = data['children'].apply(kids_group) #создаем столбец, куда сохраняем нашу функцию\n",
    "#display(data.groupby('family_status')['family_status_id'].mean())\n",
    "#display(data.groupby('total_income',ascending = False))\n",
    "def salary_group(total_income): # создаем функцию для разделения заемщиков по уровню дохода\n",
    "    if total_income <= 50000:\n",
    "        return 'низкий доход'\n",
    "    if total_income <= 150000:\n",
    "        return 'средний доход'\n",
    "    if total_income <= 300000:\n",
    "        return 'выше среднего'\n",
    "    return 'богатые'\n",
    "data['salary_status'] = data['total_income'].apply(salary_group) #создаем столбец куда сохраняем переменную\n",
    "\n",
    "def age_group(dob_years): #создаем функцию для разделения заемщиков по возрастным категориям\n",
    "    if dob_years < 18:\n",
    "        return 'дети'\n",
    "    if dob_years < 64:\n",
    "        return 'взрослые'\n",
    "    return 'пенсионеры'\n",
    "data['age_group'] = data['dob_years'].apply(age_group) #сохраняем функцию в столбец\n",
    "\n",
    "def purpose_lemmas(purpose): #задаем функцию, которая разбивает столбец \"purpose\" на удобные одинаковые цели\n",
    "    lemmas_row = m.lemmatize(purpose)\n",
    "    for p in lemmas_row:\n",
    "        if 'авто' in p:\n",
    "            return 'автомобиль'\n",
    "        if 'недвиж' in p:\n",
    "            return  'недвижимость'\n",
    "        if 'жиль' in p:\n",
    "            return 'недвижимость'\n",
    "        if 'свад' in p:\n",
    "            return  'свадьба'\n",
    "        if 'образов' in p:\n",
    "            return 'образование'\n",
    "data['purpose_stat']= data['purpose'].apply(purpose_lemmas) # создаем столбец, в который сохраняем действие функции \"purpose_lemmas\"\n",
    "def debt_stat(row): #создаем функцию, которая переведет столбец \"debt\" в текстовое значение, что более удобно\n",
    "    debt = row['debt']\n",
    "    if debt == 0:\n",
    "        return 'not debt'\n",
    "    if debt == 1:\n",
    "        return 'debt'\n",
    "data['debt_stat'] = data.apply(debt_stat, axis = 1) #создаем отдельный столбец для функции\n",
    "display(data.info()) # выводим инфо о таблице"
   ]
  },
  {
   "cell_type": "markdown",
   "metadata": {},
   "source": [
    "### Вывод"
   ]
  },
  {
   "cell_type": "markdown",
   "metadata": {},
   "source": [
    "Были категорезированы 5 столбцов, с целью обобщить данные. Теперь с ними можно работать и это облегчит получение выводов в дальнейшем.\n",
    "\n"
   ]
  },
  {
   "cell_type": "markdown",
   "metadata": {},
   "source": [
    "### Шаг 3. Ответьте на вопросы"
   ]
  },
  {
   "cell_type": "markdown",
   "metadata": {},
   "source": [
    "- Есть ли зависимость между наличием детей и возвратом кредита в срок?"
   ]
  },
  {
   "cell_type": "code",
   "execution_count": 103,
   "metadata": {},
   "outputs": [
    {
     "data": {
      "text/html": [
       "<div>\n",
       "<style scoped>\n",
       "    .dataframe tbody tr th:only-of-type {\n",
       "        vertical-align: middle;\n",
       "    }\n",
       "\n",
       "    .dataframe tbody tr th {\n",
       "        vertical-align: top;\n",
       "    }\n",
       "\n",
       "    .dataframe thead th {\n",
       "        text-align: right;\n",
       "    }\n",
       "</style>\n",
       "<table border=\"1\" class=\"dataframe\">\n",
       "  <thead>\n",
       "    <tr style=\"text-align: right;\">\n",
       "      <th>debt_stat</th>\n",
       "      <th>debt</th>\n",
       "      <th>not debt</th>\n",
       "      <th>total</th>\n",
       "      <th>debt_otn</th>\n",
       "    </tr>\n",
       "    <tr>\n",
       "      <th>children_status</th>\n",
       "      <th></th>\n",
       "      <th></th>\n",
       "      <th></th>\n",
       "      <th></th>\n",
       "    </tr>\n",
       "  </thead>\n",
       "  <tbody>\n",
       "    <tr>\n",
       "      <td>бездетные</td>\n",
       "      <td>1063</td>\n",
       "      <td>13028</td>\n",
       "      <td>14091</td>\n",
       "      <td>7.543822</td>\n",
       "    </tr>\n",
       "    <tr>\n",
       "      <td>есть дети</td>\n",
       "      <td>678</td>\n",
       "      <td>6685</td>\n",
       "      <td>7363</td>\n",
       "      <td>9.208203</td>\n",
       "    </tr>\n",
       "  </tbody>\n",
       "</table>\n",
       "</div>"
      ],
      "text/plain": [
       "debt_stat        debt  not debt  total  debt_otn\n",
       "children_status                                 \n",
       "бездетные        1063     13028  14091  7.543822\n",
       "есть дети         678      6685   7363  9.208203"
      ]
     },
     "metadata": {},
     "output_type": "display_data"
    }
   ],
   "source": [
    "children_pivot = data.pivot_table(index = ['children_status'], columns = 'debt_stat', values = 'debt', aggfunc = 'count') # создаем сводную таблицу для понимания, сколько бездетных и детных должников\n",
    "children_pivot['total'] = children_pivot['debt'] + children_pivot['not debt'] #добавляем столбец \"total\" общим показателем детных и бездетных заемщиков\n",
    "children_pivot['debt_otn'] = (children_pivot['debt'] / children_pivot['total']) * 100 #вычисляем долю должников от общего числа заемщиков для каждой категории\n",
    "display(children_pivot.head(10)) #выводим результат\n"
   ]
  },
  {
   "cell_type": "markdown",
   "metadata": {},
   "source": [
    "### Вывод"
   ]
  },
  {
   "cell_type": "markdown",
   "metadata": {},
   "source": [
    "Большинство заемщиков бездетны (14091). Заемщиков, у которых есть дети, меньше в два раза - 7363. Процент бездетных должников - 7,5% от общего количества заемщиков. \n",
    "В то время, как процент должников среди тех, у кого есть 1-2 ребенка - 9,2%.\n",
    "Поэтому да, зависимость между наличием детей и кредитными отношениями безусловно есть, можно видеть, что те, у кого есть дети, реже решаются взять кредит, не желая возлагать на себя дополнительную финансовую ответственность. Но при этом процент должников с детьми выше, чем процент должников без детей, что так же дает нам понять, что человеку без детей проще справиться с дополнительной финансовой нагрузкой в виде кредита. "
   ]
  },
  {
   "cell_type": "markdown",
   "metadata": {},
   "source": [
    "- Есть ли зависимость между семейным положением и возвратом кредита в срок?"
   ]
  },
  {
   "cell_type": "code",
   "execution_count": 108,
   "metadata": {},
   "outputs": [
    {
     "data": {
      "text/html": [
       "<div>\n",
       "<style scoped>\n",
       "    .dataframe tbody tr th:only-of-type {\n",
       "        vertical-align: middle;\n",
       "    }\n",
       "\n",
       "    .dataframe tbody tr th {\n",
       "        vertical-align: top;\n",
       "    }\n",
       "\n",
       "    .dataframe thead th {\n",
       "        text-align: right;\n",
       "    }\n",
       "</style>\n",
       "<table border=\"1\" class=\"dataframe\">\n",
       "  <thead>\n",
       "    <tr style=\"text-align: right;\">\n",
       "      <th>debt_stat</th>\n",
       "      <th>debt</th>\n",
       "      <th>not debt</th>\n",
       "      <th>total</th>\n",
       "      <th>debt_otn</th>\n",
       "    </tr>\n",
       "    <tr>\n",
       "      <th>family_status</th>\n",
       "      <th></th>\n",
       "      <th></th>\n",
       "      <th></th>\n",
       "      <th></th>\n",
       "    </tr>\n",
       "  </thead>\n",
       "  <tbody>\n",
       "    <tr>\n",
       "      <td>Не женат / не замужем</td>\n",
       "      <td>274</td>\n",
       "      <td>2536</td>\n",
       "      <td>2810</td>\n",
       "      <td>9.750890</td>\n",
       "    </tr>\n",
       "    <tr>\n",
       "      <td>в разводе</td>\n",
       "      <td>85</td>\n",
       "      <td>1110</td>\n",
       "      <td>1195</td>\n",
       "      <td>7.112971</td>\n",
       "    </tr>\n",
       "    <tr>\n",
       "      <td>вдовец / вдова</td>\n",
       "      <td>63</td>\n",
       "      <td>896</td>\n",
       "      <td>959</td>\n",
       "      <td>6.569343</td>\n",
       "    </tr>\n",
       "    <tr>\n",
       "      <td>гражданский брак</td>\n",
       "      <td>388</td>\n",
       "      <td>3763</td>\n",
       "      <td>4151</td>\n",
       "      <td>9.347145</td>\n",
       "    </tr>\n",
       "    <tr>\n",
       "      <td>женат / замужем</td>\n",
       "      <td>931</td>\n",
       "      <td>11408</td>\n",
       "      <td>12339</td>\n",
       "      <td>7.545182</td>\n",
       "    </tr>\n",
       "  </tbody>\n",
       "</table>\n",
       "</div>"
      ],
      "text/plain": [
       "debt_stat              debt  not debt  total  debt_otn\n",
       "family_status                                         \n",
       "Не женат / не замужем   274      2536   2810  9.750890\n",
       "в разводе                85      1110   1195  7.112971\n",
       "вдовец / вдова           63       896    959  6.569343\n",
       "гражданский брак        388      3763   4151  9.347145\n",
       "женат / замужем         931     11408  12339  7.545182"
      ]
     },
     "metadata": {},
     "output_type": "display_data"
    }
   ],
   "source": [
    "family_pivot = data.pivot_table(index = ['family_status'], columns = 'debt_stat', values = 'debt', aggfunc = 'count') # создаем сводную таблицу для понимания, сколько должников с разным СП\n",
    "family_pivot['total'] = family_pivot['debt'] + family_pivot['not debt'] #добавляем столбец \"total\" с общим показателем по семейному положению\n",
    "family_pivot['debt_otn'] = (family_pivot['debt'] / family_pivot['total']) * 100 #вычисляем долю должников от общего числа заемщиков для каждой категории\n",
    "display(family_pivot.head(10)) #выводим результат"
   ]
  },
  {
   "cell_type": "markdown",
   "metadata": {},
   "source": [
    "### Вывод"
   ]
  },
  {
   "cell_type": "markdown",
   "metadata": {},
   "source": [
    "Сразу можно увидеть, что больше всего заемщиков среди тех, кто женат/замужем. \n",
    "Процент должников от общего количества женатых заемщиков - 7,5%\n",
    "Процент должников среди холостых - 9,8%\n",
    "7,1% должников среди разведенных,\n",
    "6,6% - среди вдовцов\n",
    "9,4% - среди живущих в гражданском браке. \n",
    "Зависимость есть, самый высокий процент должников среди холостых и живущих в гражданском браке. \n",
    "Остальные категории близки друг к другу по значениям. \n",
    "Сравнивая с предыдущей категорией, я сразу посмотрела статистику по замужеству и наличию детей. \n",
    "Среди тех, кто женат/замужем - очень большой процент бездетных, а среди тех, кто холост есть одинокие люди с детьми и половина людей в гражданском браке имеют детей. \n",
    "Соответственно, здесь можно провести параллель, что семейной паре без детей во многих случаях проще выплатить кредит, т.к. у них двойной бюджет, из которого проще выкроить средства на ежемесячный платеж, если нет доп.расходов в лице ребенка. \n",
    "И наоборот, одинокому человеку может быть немного сложнее управлять финансами, тем более, если у него есть ребенок.\n",
    "\n"
   ]
  },
  {
   "cell_type": "markdown",
   "metadata": {},
   "source": [
    "- Есть ли зависимость между уровнем дохода и возвратом кредита в срок?"
   ]
  },
  {
   "cell_type": "code",
   "execution_count": 109,
   "metadata": {},
   "outputs": [
    {
     "data": {
      "text/html": [
       "<div>\n",
       "<style scoped>\n",
       "    .dataframe tbody tr th:only-of-type {\n",
       "        vertical-align: middle;\n",
       "    }\n",
       "\n",
       "    .dataframe tbody tr th {\n",
       "        vertical-align: top;\n",
       "    }\n",
       "\n",
       "    .dataframe thead th {\n",
       "        text-align: right;\n",
       "    }\n",
       "</style>\n",
       "<table border=\"1\" class=\"dataframe\">\n",
       "  <thead>\n",
       "    <tr style=\"text-align: right;\">\n",
       "      <th>debt_stat</th>\n",
       "      <th>debt</th>\n",
       "      <th>not debt</th>\n",
       "      <th>total</th>\n",
       "      <th>debt_otn</th>\n",
       "    </tr>\n",
       "    <tr>\n",
       "      <th>salary_status</th>\n",
       "      <th></th>\n",
       "      <th></th>\n",
       "      <th></th>\n",
       "      <th></th>\n",
       "    </tr>\n",
       "  </thead>\n",
       "  <tbody>\n",
       "    <tr>\n",
       "      <td>богатые</td>\n",
       "      <td>106</td>\n",
       "      <td>1377</td>\n",
       "      <td>1483</td>\n",
       "      <td>7.147674</td>\n",
       "    </tr>\n",
       "    <tr>\n",
       "      <td>выше среднего</td>\n",
       "      <td>657</td>\n",
       "      <td>7691</td>\n",
       "      <td>8348</td>\n",
       "      <td>7.870149</td>\n",
       "    </tr>\n",
       "    <tr>\n",
       "      <td>низкий доход</td>\n",
       "      <td>23</td>\n",
       "      <td>349</td>\n",
       "      <td>372</td>\n",
       "      <td>6.182796</td>\n",
       "    </tr>\n",
       "    <tr>\n",
       "      <td>средний доход</td>\n",
       "      <td>955</td>\n",
       "      <td>10296</td>\n",
       "      <td>11251</td>\n",
       "      <td>8.488134</td>\n",
       "    </tr>\n",
       "  </tbody>\n",
       "</table>\n",
       "</div>"
      ],
      "text/plain": [
       "debt_stat      debt  not debt  total  debt_otn\n",
       "salary_status                                 \n",
       "богатые         106      1377   1483  7.147674\n",
       "выше среднего   657      7691   8348  7.870149\n",
       "низкий доход     23       349    372  6.182796\n",
       "средний доход   955     10296  11251  8.488134"
      ]
     },
     "metadata": {},
     "output_type": "display_data"
    }
   ],
   "source": [
    "salary_pivot = data.pivot_table(index = ['salary_status'], columns = 'debt_stat', values = 'debt', aggfunc = 'count') # создаем сводную таблицу для понимания, какой доход у должников\n",
    "salary_pivot['total'] = salary_pivot['debt'] + salary_pivot['not debt'] #добавляем столбец \"total\" общий показатель с группировкой по уровню дохода\n",
    "salary_pivot['debt_otn'] = (salary_pivot['debt'] / salary_pivot['total']) * 100 #вычисляем долю должников от общего числа заемщиков для каждой категории\n",
    "display(salary_pivot.head(10)) #выводим результат"
   ]
  },
  {
   "cell_type": "markdown",
   "metadata": {},
   "source": [
    "### Вывод"
   ]
  },
  {
   "cell_type": "markdown",
   "metadata": {},
   "source": [
    "Больше всего заемщиков со средним доходом.\n",
    "8,5% должников среди людей со средним доходом. \n",
    "7,9% должников среди людей с доходом выше среднего.\n",
    "7% должников среди богатых\n",
    "6,2% должников среди бедных. \n",
    "В целом можно сказать, что особого влияния нет, т.к. разница от категории к категории - 1%,\n",
    "а выборка людей с низким доходом нерепрезентативна. \n",
    "Можно увидеть, что уровень дохода влияет на принятие решения о взятии кредита, т.к. люди с низким доходом понимают, что скорее всего им будет нечем платить, а богатым людям это не нужно. \n",
    "Средний класс - основные потребители кредитных продуктов, т.к. знают, что у них есть возможность выплатить кредит, но при этом не всегда есть деньги на единовременный платеж за дорогой товар. "
   ]
  },
  {
   "cell_type": "markdown",
   "metadata": {},
   "source": [
    "- Как разные цели кредита влияют на его возврат в срок?"
   ]
  },
  {
   "cell_type": "code",
   "execution_count": 110,
   "metadata": {},
   "outputs": [
    {
     "data": {
      "text/html": [
       "<div>\n",
       "<style scoped>\n",
       "    .dataframe tbody tr th:only-of-type {\n",
       "        vertical-align: middle;\n",
       "    }\n",
       "\n",
       "    .dataframe tbody tr th {\n",
       "        vertical-align: top;\n",
       "    }\n",
       "\n",
       "    .dataframe thead th {\n",
       "        text-align: right;\n",
       "    }\n",
       "</style>\n",
       "<table border=\"1\" class=\"dataframe\">\n",
       "  <thead>\n",
       "    <tr style=\"text-align: right;\">\n",
       "      <th>debt_stat</th>\n",
       "      <th>debt</th>\n",
       "      <th>not debt</th>\n",
       "      <th>total</th>\n",
       "      <th>debt_otn</th>\n",
       "    </tr>\n",
       "    <tr>\n",
       "      <th>purpose_stat</th>\n",
       "      <th></th>\n",
       "      <th></th>\n",
       "      <th></th>\n",
       "      <th></th>\n",
       "    </tr>\n",
       "  </thead>\n",
       "  <tbody>\n",
       "    <tr>\n",
       "      <td>автомобиль</td>\n",
       "      <td>403</td>\n",
       "      <td>3903</td>\n",
       "      <td>4306</td>\n",
       "      <td>9.359034</td>\n",
       "    </tr>\n",
       "    <tr>\n",
       "      <td>недвижимость</td>\n",
       "      <td>782</td>\n",
       "      <td>10029</td>\n",
       "      <td>10811</td>\n",
       "      <td>7.233373</td>\n",
       "    </tr>\n",
       "    <tr>\n",
       "      <td>образование</td>\n",
       "      <td>370</td>\n",
       "      <td>3643</td>\n",
       "      <td>4013</td>\n",
       "      <td>9.220035</td>\n",
       "    </tr>\n",
       "    <tr>\n",
       "      <td>свадьба</td>\n",
       "      <td>186</td>\n",
       "      <td>2138</td>\n",
       "      <td>2324</td>\n",
       "      <td>8.003442</td>\n",
       "    </tr>\n",
       "  </tbody>\n",
       "</table>\n",
       "</div>"
      ],
      "text/plain": [
       "debt_stat     debt  not debt  total  debt_otn\n",
       "purpose_stat                                 \n",
       "автомобиль     403      3903   4306  9.359034\n",
       "недвижимость   782     10029  10811  7.233373\n",
       "образование    370      3643   4013  9.220035\n",
       "свадьба        186      2138   2324  8.003442"
      ]
     },
     "metadata": {},
     "output_type": "display_data"
    }
   ],
   "source": [
    "purpose_pivot = data.pivot_table(index = ['purpose_stat'], columns = 'debt_stat', values = 'debt', aggfunc = 'count') # создаем сводную таблицу для понимания целей должников\n",
    "purpose_pivot['total'] = purpose_pivot['debt'] + purpose_pivot['not debt'] #добавляем столбец \"total\" общий показатель с группировкой по целям\n",
    "purpose_pivot['debt_otn'] = (purpose_pivot['debt'] / purpose_pivot['total']) * 100 #вычисляем долю должников от общего числа заемщиков для каждой цели\n",
    "display(purpose_pivot.head(10)) #выводим результат"
   ]
  },
  {
   "cell_type": "markdown",
   "metadata": {},
   "source": [
    "### Вывод"
   ]
  },
  {
   "cell_type": "markdown",
   "metadata": {},
   "source": [
    "Больше всего берут кредит на недвижимость. \n",
    "9,4% должников среди взявших кредит на авто.\n",
    "7% должников среди взявших кредит на недвижимость.\n",
    "9,2% должников среди взявших кредит на учебу.\n",
    "8% должников среди взявших кредит на свадьбу. \n",
    "Разница в пределах 1%, думаю, что цель кредита не влияет на своевременное погашение, кроме кредита на недвижимость. \n",
    "Из квартиры могут выселить и забрать в счет ипотеки, возможно поэтому самый низкий процент должников среди тех, кто взял кредит на недвижимость. "
   ]
  },
  {
   "cell_type": "markdown",
   "metadata": {},
   "source": [
    "### Шаг 4. Общий вывод"
   ]
  },
  {
   "cell_type": "markdown",
   "metadata": {},
   "source": [
    "Изучив таблицу, я увидела, что в ней есть пропуски в графах с зарплатой и стажем. \n",
    "Пропуски в столбце со стажем я решила заполнить средними значениями по столбцу. \n",
    "Пропуски с зп было решено заполнить медианным значением с группировкой по столбцу \"должность\". \n",
    "Данные пропуски могли возникнуть, т.к. кто-то мог не сообщить изначально данные по заработной плате, а после того, как эти данные стали известны, их не внесли в данную статистику. Данные по стажу, насколько я знаю, предоставлять необзательно, к тому же, большинство данных в стаже были внесены со знаком минус, т.е. скорее всего произошел какой-то сбой при сборе данных, или они были некорректно заполнены операторами. \n",
    "\n",
    "На возврат задолженности влияют такие факторы, как наличие детей, при этом заемщиков с детьми в два раза больше, чем бездетных, что говорит нам о том, что люди с детьми не хотят брать на себя дополнительные финансовые обязательства. \n",
    "Сложности с возвратом кредита в срок испытывают одинокие люди и те, кто живет гражданским браком. \n",
    "Причиной этому могут быть трудности с планированием бюджета, к тому же у части одиноких людей есть дети, в то время как большая часть женатых заемщиков бездетны, что безусловно облегчает бремя кредита.\n",
    "Уровень дохода влияет только на принятие решения о взятии кредита. Люди с низким доходом предпочитают не возлагать на себя дополнительные финансовые риски, людям с очень хорошим достатком в основном это не нужно. \n",
    "В основном кредиты берут люди со средним доходом и выше среднего.\n",
    "На погашение кредита практически не влияют цели, кроме цели \"недвижимость\". \n",
    "Банк имеет право забрать квартиру в счет погашения ипотеки, а для многих ипотечное жилье - единственное. Скорее всего поэтому среди заемщиков с целью \"на недвижимость\" самый низкий процент должников. \n",
    "\n",
    "Рекомендации: \n",
    "На основании полученных мной результатов можно увидеть, что на возврат кредита в срок влияет наличие детей: у заемщиков с детьми чаще возникают сложности с погашением кредита в срок. \n",
    "Так же влияет и семейное положение, здесь сложности возникают у одиноких людей и людей, живущих гражданским браком, у которых, скорее всего раздельный личный бюджет и личные кредитные обязательства. \n",
    "Основные потребители кредитных продуктов - люди со средним достатком. Здесь есть потенциал роста, т.к. еще есть категории с низким и очень высоким доходом, среди них очень мало заемщиков. \n",
    "Цели не влияют на погашение кредита в срок, кроме положительного влияния цели \"недвижимость\" (у нее самый низкий процент должников). Поэтому здесь можно предложить более тщательно проверять заемщиков с иными целями. "
   ]
  }
 ],
 "metadata": {
  "kernelspec": {
   "display_name": "Python 3",
   "language": "python",
   "name": "python3"
  },
  "language_info": {
   "codemirror_mode": {
    "name": "ipython",
    "version": 3
   },
   "file_extension": ".py",
   "mimetype": "text/x-python",
   "name": "python",
   "nbconvert_exporter": "python",
   "pygments_lexer": "ipython3",
   "version": "3.8.5"
  }
 },
 "nbformat": 4,
 "nbformat_minor": 2
}
